{
 "cells": [
  {
   "cell_type": "markdown",
   "metadata": {},
   "source": [
    "# This is a lab excercise to recommend relevant Artists to listeners of Last.FM song Website"
   ]
  },
  {
   "cell_type": "markdown",
   "metadata": {},
   "source": [
    "<html>\n",
    "<font color = Purple size = 4>\n",
    "<b> Import required libraries </b>\n",
    "</font>\n",
    "</html>"
   ]
  },
  {
   "cell_type": "code",
   "execution_count": 1,
   "metadata": {},
   "outputs": [],
   "source": [
    "#needed for cloudX lab\n",
    "from pyspark import SparkContext\n",
    "from pyspark.sql import SQLContext\n",
    "sc = SparkContext.getOrCreate()\n",
    "spark = SQLContext(sc)"
   ]
  },
  {
   "cell_type": "code",
   "execution_count": 2,
   "metadata": {
    "collapsed": true
   },
   "outputs": [],
   "source": [
    "from pyspark.mllib.recommendation import ALS, MatrixFactorizationModel, Rating\n",
    "import math\n",
    "from math import sqrt\n",
    "from pyspark.sql.functions import *\n",
    "import warnings\n",
    "warnings.filterwarnings('ignore')\n",
    "from matplotlib import *\n",
    "import matplotlib.pyplot as plt\n",
    "%matplotlib inline\n",
    "import pandas as pd\n",
    "import numpy as np\n",
    "from pyspark.sql.types import *\n",
    "from pyspark.sql import Row\n",
    "import seaborn as sns"
   ]
  },
  {
   "cell_type": "markdown",
   "metadata": {},
   "source": [
    "<html>\n",
    "<font color = Purple size = 4>\n",
    "<b> Import Datasets </b>\n",
    "</font>\n",
    "</html>"
   ]
  },
  {
   "cell_type": "code",
   "execution_count": 3,
   "metadata": {
    "collapsed": true
   },
   "outputs": [],
   "source": [
    "complete_user_artists_raw_data = sc.textFile('hdfs://ip-172-31-53-48.ec2.internal:8020/data/greatlearning/RS/Lab/user_artists.dat')"
   ]
  },
  {
   "cell_type": "code",
   "execution_count": 4,
   "metadata": {},
   "outputs": [
    {
     "data": {
      "text/plain": [
       "pyspark.rdd.RDD"
      ]
     },
     "execution_count": 4,
     "metadata": {},
     "output_type": "execute_result"
    }
   ],
   "source": [
    "type(complete_user_artists_raw_data)"
   ]
  },
  {
   "cell_type": "code",
   "execution_count": 5,
   "metadata": {},
   "outputs": [
    {
     "data": {
      "text/plain": [
       "[u'userID\\tartistID\\tweight']"
      ]
     },
     "execution_count": 5,
     "metadata": {},
     "output_type": "execute_result"
    }
   ],
   "source": [
    "complete_user_artists_raw_data.take(1)"
   ]
  },
  {
   "cell_type": "code",
   "execution_count": 6,
   "metadata": {
    "collapsed": true
   },
   "outputs": [],
   "source": [
    "complete_user_artists_raw_data = complete_user_artists_raw_data.map(lambda x:x.split(\"\\t\"))"
   ]
  },
  {
   "cell_type": "markdown",
   "metadata": {},
   "source": [
    "<html>\n",
    "<font color = Purple size = 4>\n",
    "<b> Thus, we see that the raw data contains 3 fields: userId, ArtistId and listening count. We will use the first three fields to develop recoemmendations. </b>\n",
    "</font>\n",
    "</html>"
   ]
  },
  {
   "cell_type": "markdown",
   "metadata": {},
   "source": [
    "<html>\n",
    "<font color = Blue size = 4>\n",
    "<b> Total rating </b>\n",
    "</font>\n",
    "</html>"
   ]
  },
  {
   "cell_type": "markdown",
   "metadata": {},
   "source": [
    "<html>\n",
    "<font color = Purple size = 4>\n",
    "<b> As we see above,the first line in the data is header. We will have to ignore it before we create RDD. Else, it will create problems in the analysis. </b>\n",
    "</font>\n",
    "</html>"
   ]
  },
  {
   "cell_type": "code",
   "execution_count": 7,
   "metadata": {
    "collapsed": true
   },
   "outputs": [],
   "source": [
    "complete_user_artists_data_header = complete_user_artists_raw_data.take(1)[0]"
   ]
  },
  {
   "cell_type": "code",
   "execution_count": 8,
   "metadata": {},
   "outputs": [
    {
     "data": {
      "text/plain": [
       "[u'userID', u'artistID', u'weight']"
      ]
     },
     "execution_count": 8,
     "metadata": {},
     "output_type": "execute_result"
    }
   ],
   "source": [
    "complete_user_artists_data_header"
   ]
  },
  {
   "cell_type": "markdown",
   "metadata": {},
   "source": [
    "<html>\n",
    "<font color = Purple size = 4>\n",
    "<b> In the below, we read the ratings data while ignoring the first record of header and split it using ','. </b>\n",
    "</font>\n",
    "</html>"
   ]
  },
  {
   "cell_type": "code",
   "execution_count": 9,
   "metadata": {
    "collapsed": true
   },
   "outputs": [],
   "source": [
    "complete_user_artists_data = complete_user_artists_raw_data.filter(lambda line:line!=complete_user_artists_data_header)"
   ]
  },
  {
   "cell_type": "code",
   "execution_count": 10,
   "metadata": {
    "collapsed": true
   },
   "outputs": [],
   "source": [
    "complete_user_artists_data = complete_user_artists_data.map(lambda x: [x[0], x[1], int(x[2])])"
   ]
  },
  {
   "cell_type": "code",
   "execution_count": 11,
   "metadata": {},
   "outputs": [
    {
     "data": {
      "text/plain": [
       "[[u'2', u'51', 13883], [u'2', u'52', 11690], [u'2', u'53', 11351]]"
      ]
     },
     "execution_count": 11,
     "metadata": {},
     "output_type": "execute_result"
    }
   ],
   "source": [
    "complete_user_artists_data.take(3)"
   ]
  },
  {
   "cell_type": "code",
   "execution_count": 12,
   "metadata": {
    "collapsed": true
   },
   "outputs": [],
   "source": [
    "no_of_records = complete_user_artists_data.count()"
   ]
  },
  {
   "cell_type": "code",
   "execution_count": 13,
   "metadata": {},
   "outputs": [
    {
     "name": "stdout",
     "output_type": "stream",
     "text": [
      "Total number of Records are 92834\n"
     ]
    }
   ],
   "source": [
    "print \"Total number of Records are %d\" %  ( no_of_records)"
   ]
  },
  {
   "cell_type": "markdown",
   "metadata": {},
   "source": [
    "<html>\n",
    "<font color = Purple size = 4>\n",
    "<b> Let's convert the RDD into Dataframe. </b>\n",
    "</font>\n",
    "</html>"
   ]
  },
  {
   "cell_type": "code",
   "execution_count": 14,
   "metadata": {
    "collapsed": true
   },
   "outputs": [],
   "source": [
    "weightsDF=complete_user_artists_data.toDF(['user','artist','weight'])"
   ]
  },
  {
   "cell_type": "markdown",
   "metadata": {},
   "source": [
    "<html>\n",
    "<font color = Purple size = 4>\n",
    "<b> Let's do some exploratory analysis. </b>\n",
    "</font>\n",
    "</html>"
   ]
  },
  {
   "cell_type": "code",
   "execution_count": 15,
   "metadata": {},
   "outputs": [
    {
     "name": "stdout",
     "output_type": "stream",
     "text": [
      "+-------+------------------+\n",
      "|summary|            weight|\n",
      "+-------+------------------+\n",
      "|  count|             92834|\n",
      "|   mean| 745.2439300256372|\n",
      "| stddev|3751.3220803876743|\n",
      "|    min|                 1|\n",
      "|    max|            352698|\n",
      "+-------+------------------+\n",
      "\n"
     ]
    }
   ],
   "source": [
    "weightsDF.select('weight').describe().show()"
   ]
  },
  {
   "cell_type": "code",
   "execution_count": 16,
   "metadata": {
    "collapsed": true
   },
   "outputs": [],
   "source": [
    "weightsPD=weightsDF.toPandas()"
   ]
  },
  {
   "cell_type": "code",
   "execution_count": 17,
   "metadata": {},
   "outputs": [
    {
     "data": {
      "image/png": "[encoded data removed]",
      "text/plain": [
       "<matplotlib.figure.Figure at 0x7f124690f610>"
      ]
     },
     "metadata": {},
     "output_type": "display_data"
    }
   ],
   "source": [
    "plt.plot(weightsPD['weight'],'ro')\n",
    "plt.xlabel('Weights')\n",
    "plt.ylabel('count')\n",
    "plt.show()"
   ]
  },
  {
   "cell_type": "code",
   "execution_count": 18,
   "metadata": {},
   "outputs": [
    {
     "data": {
      "text/html": [
       "<div>\n",
       "<table border=\"1\" class=\"dataframe\">\n",
       "  <thead>\n",
       "    <tr style=\"text-align: right;\">\n",
       "      <th></th>\n",
       "      <th>weight</th>\n",
       "    </tr>\n",
       "  </thead>\n",
       "  <tbody>\n",
       "    <tr>\n",
       "      <th>count</th>\n",
       "      <td>92834.00000</td>\n",
       "    </tr>\n",
       "    <tr>\n",
       "      <th>mean</th>\n",
       "      <td>745.24393</td>\n",
       "    </tr>\n",
       "    <tr>\n",
       "      <th>std</th>\n",
       "      <td>3751.32208</td>\n",
       "    </tr>\n",
       "    <tr>\n",
       "      <th>min</th>\n",
       "      <td>1.00000</td>\n",
       "    </tr>\n",
       "    <tr>\n",
       "      <th>25%</th>\n",
       "      <td>107.00000</td>\n",
       "    </tr>\n",
       "    <tr>\n",
       "      <th>50%</th>\n",
       "      <td>260.00000</td>\n",
       "    </tr>\n",
       "    <tr>\n",
       "      <th>75%</th>\n",
       "      <td>614.00000</td>\n",
       "    </tr>\n",
       "    <tr>\n",
       "      <th>max</th>\n",
       "      <td>352698.00000</td>\n",
       "    </tr>\n",
       "  </tbody>\n",
       "</table>\n",
       "</div>"
      ],
      "text/plain": [
       "             weight\n",
       "count   92834.00000\n",
       "mean      745.24393\n",
       "std      3751.32208\n",
       "min         1.00000\n",
       "25%       107.00000\n",
       "50%       260.00000\n",
       "75%       614.00000\n",
       "max    352698.00000"
      ]
     },
     "execution_count": 18,
     "metadata": {},
     "output_type": "execute_result"
    }
   ],
   "source": [
    "weightsPD.describe()"
   ]
  },
  {
   "cell_type": "code",
   "execution_count": 19,
   "metadata": {},
   "outputs": [],
   "source": [
    "weights_count = weightsPD['weight'].groupby(weightsPD['weight']).count()"
   ]
  },
  {
   "cell_type": "code",
   "execution_count": 20,
   "metadata": {},
   "outputs": [
    {
     "data": {
      "text/plain": [
       "count    5436.000000\n",
       "mean       17.077631\n",
       "std        41.791609\n",
       "min         1.000000\n",
       "25%         1.000000\n",
       "50%         2.000000\n",
       "75%         9.000000\n",
       "max       636.000000\n",
       "Name: weight, dtype: float64"
      ]
     },
     "execution_count": 20,
     "metadata": {},
     "output_type": "execute_result"
    }
   ],
   "source": [
    "weights_count.describe()"
   ]
  },
  {
   "cell_type": "markdown",
   "metadata": {},
   "source": [
    "<html>\n",
    "<font color = DarkBlue>\n",
    "There are outliers in the above dataset. If we continue building model with outliers, RMSE values will increase between training and test data and Model accuracy will go down. So, let us clean the dataset from outliers before moving further. <br />\n",
    "75th percentile of data has listening count/weight as 614 where as 100th percentile has 352698 which is clearly indicating that there are outliers beyond 75th percentile. <br />\n",
    "Now, let us compute the value at 95th percentile and discard records beyond 95th percentile.\n",
    "</font>\n",
    "</html>"
   ]
  },
  {
   "cell_type": "code",
   "execution_count": 21,
   "metadata": {},
   "outputs": [
    {
     "data": {
      "text/plain": [
       "weight    2328.0\n",
       "Name: 0.95, dtype: float64"
      ]
     },
     "execution_count": 21,
     "metadata": {},
     "output_type": "execute_result"
    }
   ],
   "source": [
    "weightsPD.quantile(0.95)"
   ]
  },
  {
   "cell_type": "code",
   "execution_count": 22,
   "metadata": {},
   "outputs": [],
   "source": [
    "complete_user_artists_cleandata = complete_user_artists_data.filter(lambda x:x[2]<2400)"
   ]
  },
  {
   "cell_type": "code",
   "execution_count": 23,
   "metadata": {},
   "outputs": [
    {
     "data": {
      "text/plain": [
       "[[u'2', u'75', 2397], [u'2', u'76', 2382], [u'2', u'77', 2120]]"
      ]
     },
     "execution_count": 23,
     "metadata": {},
     "output_type": "execute_result"
    }
   ],
   "source": [
    "complete_user_artists_cleandata.take(3)"
   ]
  },
  {
   "cell_type": "code",
   "execution_count": 24,
   "metadata": {},
   "outputs": [
    {
     "name": "stdout",
     "output_type": "stream",
     "text": [
      "Total number of Records are 88398\n"
     ]
    }
   ],
   "source": [
    "no_of_cleanrecords = complete_user_artists_cleandata.count()\n",
    "print \"Total number of Records are %d\" %  ( no_of_cleanrecords)"
   ]
  },
  {
   "cell_type": "code",
   "execution_count": 25,
   "metadata": {
    "collapsed": true
   },
   "outputs": [],
   "source": [
    "no_of_users= complete_user_artists_cleandata.map(lambda tokens:(int(tokens[0]))).distinct().count()"
   ]
  },
  {
   "cell_type": "code",
   "execution_count": 26,
   "metadata": {},
   "outputs": [
    {
     "data": {
      "text/plain": [
       "[u'2', u'2', u'2']"
      ]
     },
     "execution_count": 26,
     "metadata": {},
     "output_type": "execute_result"
    }
   ],
   "source": [
    "complete_user_artists_cleandata.map(lambda x: x[0]).take(3)"
   ]
  },
  {
   "cell_type": "code",
   "execution_count": 27,
   "metadata": {},
   "outputs": [
    {
     "name": "stdout",
     "output_type": "stream",
     "text": [
      "Total number of users in the weights table are 1889\n"
     ]
    }
   ],
   "source": [
    "print \"Total number of users in the weights table are %d\" % (no_of_users)"
   ]
  },
  {
   "cell_type": "code",
   "execution_count": 28,
   "metadata": {},
   "outputs": [],
   "source": [
    "no_of_artists= complete_user_artists_cleandata.map(lambda tokens:(int(tokens[1]))).distinct().count()"
   ]
  },
  {
   "cell_type": "code",
   "execution_count": 29,
   "metadata": {},
   "outputs": [
    {
     "name": "stdout",
     "output_type": "stream",
     "text": [
      "Total number of artists whose songs are wieghted in weights table are 17430\n"
     ]
    }
   ],
   "source": [
    "print \"Total number of artists whose songs are wieghted in weights table are %d\" % (no_of_artists)"
   ]
  },
  {
   "cell_type": "code",
   "execution_count": 30,
   "metadata": {
    "collapsed": true
   },
   "outputs": [],
   "source": [
    "no_of_discards = no_of_records-no_of_cleanrecords"
   ]
  },
  {
   "cell_type": "code",
   "execution_count": 31,
   "metadata": {},
   "outputs": [
    {
     "data": {
      "text/plain": [
       "4436"
      ]
     },
     "execution_count": 31,
     "metadata": {},
     "output_type": "execute_result"
    }
   ],
   "source": [
    "no_of_discards"
   ]
  },
  {
   "cell_type": "code",
   "execution_count": 32,
   "metadata": {},
   "outputs": [
    {
     "name": "stdout",
     "output_type": "stream",
     "text": [
      "Total number of records discarded due to extreme outliers are 4436\n"
     ]
    }
   ],
   "source": [
    "print \"Total number of records discarded due to extreme outliers are %d\" % (no_of_discards)"
   ]
  },
  {
   "cell_type": "code",
   "execution_count": 33,
   "metadata": {},
   "outputs": [
    {
     "name": "stdout",
     "output_type": "stream",
     "text": [
      "Total number of discarded records are 4436\n"
     ]
    }
   ],
   "source": [
    "print \"Total number of discarded records are %d\" %(no_of_discards)"
   ]
  },
  {
   "cell_type": "markdown",
   "metadata": {},
   "source": [
    "<html>\n",
    "<font color = DarkBlue>\n",
    "Let us re-run the above exploratory analysis now and check if the outliers have come down.\n",
    "</font>\n",
    "</html>"
   ]
  },
  {
   "cell_type": "code",
   "execution_count": 34,
   "metadata": {},
   "outputs": [
    {
     "name": "stdout",
     "output_type": "stream",
     "text": [
      "+-------+------------------+\n",
      "|summary|            weight|\n",
      "+-------+------------------+\n",
      "|  count|             88398|\n",
      "|   mean|  407.178952012489|\n",
      "| stddev|456.30363599915546|\n",
      "|    min|                 1|\n",
      "|    max|              2398|\n",
      "+-------+------------------+\n",
      "\n"
     ]
    }
   ],
   "source": [
    "weightsDF2=complete_user_artists_cleandata.toDF(['user','artist','weight'])\n",
    "weightsDF2.select('weight').describe().show()"
   ]
  },
  {
   "cell_type": "code",
   "execution_count": 35,
   "metadata": {},
   "outputs": [
    {
     "data": {
      "image/png": "[encoded data removed]",
      "text/plain": [
       "<matplotlib.figure.Figure at 0x7f12450a4c50>"
      ]
     },
     "metadata": {},
     "output_type": "display_data"
    }
   ],
   "source": [
    "weightsPD2=weightsDF2.toPandas()\n",
    "plt.plot(weightsPD2['weight'],'ro',color = 'green')\n",
    "plt.xlabel('Weights')\n",
    "plt.ylabel('count')\n",
    "plt.show()"
   ]
  },
  {
   "cell_type": "markdown",
   "metadata": {},
   "source": [
    "<html>\n",
    "<font color = Purple size = 4>\n",
    "<b> Calculate Density </b>\n",
    "</font>\n",
    "</html>"
   ]
  },
  {
   "cell_type": "code",
   "execution_count": 36,
   "metadata": {},
   "outputs": [],
   "source": [
    "density = no_of_cleanrecords/(float(no_of_users)*float(no_of_artists))"
   ]
  },
  {
   "cell_type": "code",
   "execution_count": 37,
   "metadata": {},
   "outputs": [
    {
     "name": "stdout",
     "output_type": "stream",
     "text": [
      "The density (float) of the rating matrix is 0.002685\n"
     ]
    }
   ],
   "source": [
    "print \"The density (float) of the rating matrix is %f\" % (density)"
   ]
  },
  {
   "cell_type": "code",
   "execution_count": 38,
   "metadata": {},
   "outputs": [
    {
     "name": "stdout",
     "output_type": "stream",
     "text": [
      "The density of the rating matrix is 0\n"
     ]
    }
   ],
   "source": [
    "print \"The density of the rating matrix is %d\" % (density)"
   ]
  },
  {
   "cell_type": "markdown",
   "metadata": {},
   "source": [
    "<html>\n",
    "<font color = Purple size = 4>\n",
    "<b> Divide the data in training and testing part in the ratio 75:25 </b>\n",
    "</font>\n",
    "</html>"
   ]
  },
  {
   "cell_type": "code",
   "execution_count": 39,
   "metadata": {
    "collapsed": true
   },
   "outputs": [],
   "source": [
    "training, test = complete_user_artists_cleandata.randomSplit([7.5, 2.5], seed=100)"
   ]
  },
  {
   "cell_type": "code",
   "execution_count": 40,
   "metadata": {},
   "outputs": [
    {
     "data": {
      "text/plain": [
       "[[u'2', u'75', 2397],\n",
       " [u'2', u'78', 2119],\n",
       " [u'2', u'79', 1990],\n",
       " [u'2', u'81', 1948],\n",
       " [u'2', u'82', 1868]]"
      ]
     },
     "execution_count": 40,
     "metadata": {},
     "output_type": "execute_result"
    }
   ],
   "source": [
    "training.take(5)"
   ]
  },
  {
   "cell_type": "markdown",
   "metadata": {},
   "source": [
    "<html>\n",
    "<font color = Purple size = 4>\n",
    "<b> Build ALS Model </b>\n",
    "</font>\n",
    "</html>"
   ]
  },
  {
   "cell_type": "code",
   "execution_count": 41,
   "metadata": {
    "collapsed": true
   },
   "outputs": [],
   "source": [
    "rank = 3\n",
    "seed = 100\n",
    "iterations = 10\n",
    "regularization_parameter = 0.05"
   ]
  },
  {
   "cell_type": "code",
   "execution_count": 42,
   "metadata": {},
   "outputs": [],
   "source": [
    "model = ALS.train(training, rank = rank, seed=seed, iterations=iterations, lambda_=regularization_parameter)"
   ]
  },
  {
   "cell_type": "markdown",
   "metadata": {},
   "source": [
    "<html>\n",
    "<font color = Purple size = 4>\n",
    "<b> Prediction on training data to check the model accuracy </b>\n",
    "</font>\n",
    "</html>"
   ]
  },
  {
   "cell_type": "code",
   "execution_count": 43,
   "metadata": {
    "collapsed": true
   },
   "outputs": [],
   "source": [
    "predict_train = training.map(lambda x: (x[0],x[1]))"
   ]
  },
  {
   "cell_type": "code",
   "execution_count": 44,
   "metadata": {
    "collapsed": true
   },
   "outputs": [],
   "source": [
    "predictall_train = model.predictAll(predict_train).map(lambda  x: ((x[0],x[1]),x[2]))"
   ]
  },
  {
   "cell_type": "code",
   "execution_count": 45,
   "metadata": {},
   "outputs": [
    {
     "data": {
      "text/plain": [
       "[((1061, 7532), 1677.3795346903387),\n",
       " ((507, 7532), 480.663743687041),\n",
       " ((1213, 1084), 61.92392119718846),\n",
       " ((31, 1084), 102.40054967572155),\n",
       " ((674, 9200), 405.18612748786427)]"
      ]
     },
     "execution_count": 45,
     "metadata": {},
     "output_type": "execute_result"
    }
   ],
   "source": [
    "predictall_train.take(5)"
   ]
  },
  {
   "cell_type": "markdown",
   "metadata": {},
   "source": [
    "<html>\n",
    "<font color = Purple size = 4>\n",
    "<b> Join all actual and predicted ratings for training set </b>\n",
    "</font>\n",
    "</html>"
   ]
  },
  {
   "cell_type": "code",
   "execution_count": 46,
   "metadata": {
    "collapsed": true
   },
   "outputs": [],
   "source": [
    "trainingtoKey = training.map(lambda x: ((int(x[0]), int(x[1])), x[2]))"
   ]
  },
  {
   "cell_type": "code",
   "execution_count": 47,
   "metadata": {
    "collapsed": true
   },
   "outputs": [],
   "source": [
    "join_predictall_train = trainingtoKey.join(predictall_train)"
   ]
  },
  {
   "cell_type": "markdown",
   "metadata": {},
   "source": [
    "<html>\n",
    "<font color = Purple size = 4>\n",
    "<b> Check actual vs predicted ratings for first five users </b>\n",
    "</font>\n",
    "</html>"
   ]
  },
  {
   "cell_type": "code",
   "execution_count": 48,
   "metadata": {},
   "outputs": [
    {
     "data": {
      "text/plain": [
       "[((1968, 952), (113, 442.12204890637486)),\n",
       " ((2025, 163), (1555, 2005.6814197232907)),\n",
       " ((1688, 5914), (357, 382.57071211905895)),\n",
       " ((1937, 289), (956, 964.8914524837326)),\n",
       " ((654, 8960), (61, 33.07349975504091))]"
      ]
     },
     "execution_count": 48,
     "metadata": {},
     "output_type": "execute_result"
    }
   ],
   "source": [
    "join_predictall_train.take(5)"
   ]
  },
  {
   "cell_type": "markdown",
   "metadata": {},
   "source": [
    "<html>\n",
    "<font color = Purple size = 4>\n",
    "<b> Evaluate training model </b>\n",
    "</font>\n",
    "</html>"
   ]
  },
  {
   "cell_type": "code",
   "execution_count": 49,
   "metadata": {
    "collapsed": true
   },
   "outputs": [],
   "source": [
    "t1 = join_predictall_train.map(lambda r: (r[1][0] - r[1][1])**2)"
   ]
  },
  {
   "cell_type": "code",
   "execution_count": 50,
   "metadata": {
    "collapsed": true
   },
   "outputs": [],
   "source": [
    "mseList = t1.collect()"
   ]
  },
  {
   "cell_type": "code",
   "execution_count": 51,
   "metadata": {},
   "outputs": [
    {
     "data": {
      "image/png": "[encoded data removed]",
      "text/plain": [
       "<matplotlib.figure.Figure at 0x7f1246dbfe50>"
      ]
     },
     "metadata": {},
     "output_type": "display_data"
    }
   ],
   "source": [
    "plt.plot(mseList)\n",
    "plt.show()"
   ]
  },
  {
   "cell_type": "code",
   "execution_count": 52,
   "metadata": {},
   "outputs": [],
   "source": [
    "MSE_valid = join_predictall_train.map(lambda r: (r[1][0] - r[1][1])**2).mean()"
   ]
  },
  {
   "cell_type": "code",
   "execution_count": 53,
   "metadata": {
    "collapsed": true
   },
   "outputs": [],
   "source": [
    "rmse_valid = np.sqrt(MSE_valid)"
   ]
  },
  {
   "cell_type": "code",
   "execution_count": 54,
   "metadata": {},
   "outputs": [
    {
     "data": {
      "text/plain": [
       "238.94198549786739"
      ]
     },
     "execution_count": 54,
     "metadata": {},
     "output_type": "execute_result"
    }
   ],
   "source": [
    "rmse_valid"
   ]
  },
  {
   "cell_type": "markdown",
   "metadata": {},
   "source": [
    "<html>\n",
    "<font color = Purple size = 4>\n",
    "<b> Prediction on Test Data </b>\n",
    "</font>\n",
    "</html>"
   ]
  },
  {
   "cell_type": "code",
   "execution_count": 55,
   "metadata": {
    "collapsed": true
   },
   "outputs": [],
   "source": [
    "predict_test = test.map(lambda x: (x[0],x[1]))"
   ]
  },
  {
   "cell_type": "code",
   "execution_count": 56,
   "metadata": {
    "collapsed": true
   },
   "outputs": [],
   "source": [
    "predictall_test = model.predictAll(predict_test).map(lambda  x: ((x[0],x[1]),x[2]))"
   ]
  },
  {
   "cell_type": "markdown",
   "metadata": {},
   "source": [
    "<html>\n",
    "<font color = Purple size = 4>\n",
    "<b> Model Evaluation on test data </b>\n",
    "</font>\n",
    "</html>"
   ]
  },
  {
   "cell_type": "code",
   "execution_count": 57,
   "metadata": {
    "collapsed": true
   },
   "outputs": [],
   "source": [
    "testtoKey = test.map(lambda x: ((int(x[0]), int(x[1])), x[2]))"
   ]
  },
  {
   "cell_type": "code",
   "execution_count": 58,
   "metadata": {
    "collapsed": true
   },
   "outputs": [],
   "source": [
    "join_predictall_test = testtoKey.join(predictall_test)"
   ]
  },
  {
   "cell_type": "code",
   "execution_count": 59,
   "metadata": {},
   "outputs": [
    {
     "data": {
      "text/plain": [
       "[((711, 707), (238, 277.9149697358698)),\n",
       " ((1093, 4069), (61, 98.03683691339347)),\n",
       " ((1987, 223), (1545, 241.54605068819183)),\n",
       " ((228, 4520), (25, 6.625149597043446)),\n",
       " ((628, 450), (97, 94.48531583485686))]"
      ]
     },
     "execution_count": 59,
     "metadata": {},
     "output_type": "execute_result"
    }
   ],
   "source": [
    "join_predictall_test.take(5)"
   ]
  },
  {
   "cell_type": "code",
   "execution_count": 60,
   "metadata": {
    "collapsed": true
   },
   "outputs": [],
   "source": [
    "t2 = join_predictall_test.map(lambda r: (r[1][0] - r[1][1])**2)"
   ]
  },
  {
   "cell_type": "code",
   "execution_count": 61,
   "metadata": {
    "collapsed": true
   },
   "outputs": [],
   "source": [
    "mseList2 = t2.collect()"
   ]
  },
  {
   "cell_type": "code",
   "execution_count": 62,
   "metadata": {},
   "outputs": [
    {
     "data": {
      "image/png": "[encoded data removed]",
      "text/plain": [
       "<matplotlib.figure.Figure at 0x7f1243f83c50>"
      ]
     },
     "metadata": {},
     "output_type": "display_data"
    }
   ],
   "source": [
    "plt.plot(mseList2)\n",
    "plt.show()"
   ]
  },
  {
   "cell_type": "code",
   "execution_count": 63,
   "metadata": {
    "collapsed": true
   },
   "outputs": [],
   "source": [
    "MSE_valid2 = join_predictall_test.map(lambda r: (r[1][0] - r[1][1])**2).mean()"
   ]
  },
  {
   "cell_type": "code",
   "execution_count": 64,
   "metadata": {},
   "outputs": [],
   "source": [
    "rmse_valid2 = np.sqrt(MSE_valid2)"
   ]
  },
  {
   "cell_type": "code",
   "execution_count": 65,
   "metadata": {},
   "outputs": [
    {
     "data": {
      "text/plain": [
       "472.94207325982734"
      ]
     },
     "execution_count": 65,
     "metadata": {},
     "output_type": "execute_result"
    }
   ],
   "source": [
    "rmse_valid2"
   ]
  },
  {
   "cell_type": "code",
   "execution_count": 66,
   "metadata": {},
   "outputs": [
    {
     "name": "stdout",
     "output_type": "stream",
     "text": [
      "For testing data the RMSE is 472.94207326\n"
     ]
    }
   ],
   "source": [
    "print 'For testing data the RMSE is %s' % (rmse_valid2)"
   ]
  },
  {
   "cell_type": "code",
   "execution_count": 67,
   "metadata": {},
   "outputs": [
    {
     "data": {
      "text/plain": [
       "[[u'2', u'76', 2382], [u'2', u'77', 2120], [u'2', u'80', 1972]]"
      ]
     },
     "execution_count": 67,
     "metadata": {},
     "output_type": "execute_result"
    }
   ],
   "source": [
    "test.take(3)"
   ]
  },
  {
   "cell_type": "code",
   "execution_count": 68,
   "metadata": {},
   "outputs": [
    {
     "data": {
      "text/plain": [
       "[((1114, 7532), 481.9213740120101),\n",
       " ((1243, 7532), 372.82833634194935),\n",
       " ((1781, 6400), 144.94022833035217)]"
      ]
     },
     "execution_count": 68,
     "metadata": {},
     "output_type": "execute_result"
    }
   ],
   "source": [
    "predictall_test.take(3)"
   ]
  },
  {
   "cell_type": "code",
   "execution_count": 69,
   "metadata": {},
   "outputs": [
    {
     "data": {
      "text/plain": [
       "[((711, 707), (238, 277.9149697358698)),\n",
       " ((1093, 4069), (61, 98.03683691339347)),\n",
       " ((1987, 223), (1545, 241.54605068819183)),\n",
       " ((228, 4520), (25, 6.625149597043446)),\n",
       " ((628, 450), (97, 94.48531583485686))]"
      ]
     },
     "execution_count": 69,
     "metadata": {},
     "output_type": "execute_result"
    }
   ],
   "source": [
    "join_predictall_test.take(5)"
   ]
  },
  {
   "cell_type": "markdown",
   "metadata": {},
   "source": [
    "#### Even the root mean square errors for Testing data is greater than Training data, the model is still better in its performance.\n"
   ]
  },
  {
   "cell_type": "markdown",
   "metadata": {},
   "source": [
    "<html>\n",
    "<font color = Purple size = 4>\n",
    "<b> If you want to generate the top recommendations for one user use recommendProducts() </b>\n",
    "</font>\n",
    "</html>"
   ]
  },
  {
   "cell_type": "markdown",
   "metadata": {},
   "source": [
    "<html>\n",
    "<font color = Purple size = 4>\n",
    "<b> Recommend top products to user </b>\n",
    "</font>\n",
    "</html>"
   ]
  },
  {
   "cell_type": "markdown",
   "metadata": {},
   "source": [
    "<html>\n",
    "<font color = DarkBlue>\n",
    "I am first recommending multiple artists to each user (took 5 users here). <br />\n",
    "Then I will proceed with steps to recommend to a single user.\n",
    "</font>\n",
    "</html>"
   ]
  },
  {
   "cell_type": "markdown",
   "metadata": {},
   "source": [
    "<html>\n",
    "<font color = DarkBlue>\n",
    "<b>Recommend multiple artists to each user using: recommendProductsForUsers() </b>\n",
    "</font>\n",
    "</html>"
   ]
  },
  {
   "cell_type": "code",
   "execution_count": 70,
   "metadata": {},
   "outputs": [],
   "source": [
    "recomm_multiprods_user = model.recommendProductsForUsers(5).take(5)"
   ]
  },
  {
   "cell_type": "code",
   "execution_count": 71,
   "metadata": {
    "collapsed": true
   },
   "outputs": [],
   "source": [
    "rec_artist_multiusers = set(recomm_multiprods_user)"
   ]
  },
  {
   "cell_type": "code",
   "execution_count": 72,
   "metadata": {},
   "outputs": [
    {
     "data": {
      "text/plain": [
       "{(80,\n",
       "  (Rating(user=80, product=2185, rating=1536.2795053631414),\n",
       "   Rating(user=80, product=5017, rating=1418.8116907420808),\n",
       "   Rating(user=80, product=8756, rating=1343.41787508252),\n",
       "   Rating(user=80, product=1726, rating=1277.4724283091032),\n",
       "   Rating(user=80, product=14542, rating=1276.9235919111452))),\n",
       " (320,\n",
       "  (Rating(user=320, product=62, rating=3250.948997604817),\n",
       "   Rating(user=320, product=14693, rating=2741.931945390159),\n",
       "   Rating(user=320, product=8715, rating=2731.2193078265664),\n",
       "   Rating(user=320, product=2185, rating=2651.3869484722563),\n",
       "   Rating(user=320, product=3483, rating=2616.473603429524))),\n",
       " (672,\n",
       "  (Rating(user=672, product=11688, rating=950.5301342506075),\n",
       "   Rating(user=672, product=9936, rating=949.1060906405457),\n",
       "   Rating(user=672, product=9382, rating=918.7830153158707),\n",
       "   Rating(user=672, product=1332, rating=878.7702028050564),\n",
       "   Rating(user=672, product=4134, rating=852.1731773767328))),\n",
       " (752,\n",
       "  (Rating(user=752, product=5017, rating=2514.905676037991),\n",
       "   Rating(user=752, product=4582, rating=2090.741052540029),\n",
       "   Rating(user=752, product=3483, rating=1946.0687539847454),\n",
       "   Rating(user=752, product=62, rating=1936.2782107241906),\n",
       "   Rating(user=752, product=2185, rating=1840.874236137618))),\n",
       " (1840,\n",
       "  (Rating(user=1840, product=5017, rating=3723.838456054161),\n",
       "   Rating(user=1840, product=13935, rating=2970.6476373930345),\n",
       "   Rating(user=1840, product=2185, rating=2777.846594305631),\n",
       "   Rating(user=1840, product=8756, rating=2764.896376173502),\n",
       "   Rating(user=1840, product=1726, rating=2735.1099558667706)))}"
      ]
     },
     "execution_count": 72,
     "metadata": {},
     "output_type": "execute_result"
    }
   ],
   "source": [
    "rec_artist_multiusers "
   ]
  },
  {
   "cell_type": "markdown",
   "metadata": {},
   "source": [
    "<html>\n",
    "<font color = DarkBlue>\n",
    "<b>Recommend multiple artists to any single user using: recommendProducts() </b>\n",
    "</font>\n",
    "</html>"
   ]
  },
  {
   "cell_type": "code",
   "execution_count": 73,
   "metadata": {},
   "outputs": [],
   "source": [
    "#user_id = 51\n",
    "recomm_to_singleuser = model.recommendProducts(51,10)"
   ]
  },
  {
   "cell_type": "code",
   "execution_count": 74,
   "metadata": {
    "collapsed": true
   },
   "outputs": [],
   "source": [
    "rec_artist_singleuser = set(recomm_to_singleuser)"
   ]
  },
  {
   "cell_type": "code",
   "execution_count": 75,
   "metadata": {},
   "outputs": [
    {
     "data": {
      "text/plain": [
       "{Rating(user=51, product=1332, rating=4750.15693798089),\n",
       " Rating(user=51, product=3422, rating=4554.474697711537),\n",
       " Rating(user=51, product=3785, rating=3917.7878147528436),\n",
       " Rating(user=51, product=4134, rating=4134.277331452972),\n",
       " Rating(user=51, product=6194, rating=3594.6470400620547),\n",
       " Rating(user=51, product=8707, rating=3594.5986853174477),\n",
       " Rating(user=51, product=9382, rating=3863.1591545488),\n",
       " Rating(user=51, product=9936, rating=4418.459835450192),\n",
       " Rating(user=51, product=11688, rating=4958.607918187041),\n",
       " Rating(user=51, product=11689, rating=4142.375887033822)}"
      ]
     },
     "execution_count": 75,
     "metadata": {},
     "output_type": "execute_result"
    }
   ],
   "source": [
    "rec_artist_singleuser"
   ]
  },
  {
   "cell_type": "markdown",
   "metadata": {},
   "source": [
    "<html>\n",
    "<font color = DarkBlue>\n",
    "<b>Load artists data to map artist names to artist ids </b>\n",
    "</font>\n",
    "</html>"
   ]
  },
  {
   "cell_type": "code",
   "execution_count": 76,
   "metadata": {
    "collapsed": true
   },
   "outputs": [],
   "source": [
    "complete_artist_raw_data = sc.textFile('hdfs://ip-172-31-53-48.ec2.internal:8020/data/greatlearning/RS/Lab/artists.dat')\n",
    "#complete_artist_raw_data = sc.textFile('artists.dat')"
   ]
  },
  {
   "cell_type": "code",
   "execution_count": 77,
   "metadata": {},
   "outputs": [
    {
     "data": {
      "text/plain": [
       "[u'id\\tname\\turl\\tpictureURL']"
      ]
     },
     "execution_count": 77,
     "metadata": {},
     "output_type": "execute_result"
    }
   ],
   "source": [
    "complete_artist_raw_data.take(1)"
   ]
  },
  {
   "cell_type": "code",
   "execution_count": 78,
   "metadata": {
    "collapsed": true
   },
   "outputs": [],
   "source": [
    "complete_artist_raw_data = complete_artist_raw_data.map(lambda x:x.split(\"\\t\"))"
   ]
  },
  {
   "cell_type": "code",
   "execution_count": 79,
   "metadata": {},
   "outputs": [],
   "source": [
    "complete_artist_data_header = complete_artist_raw_data.take(1)[0]\n",
    "complete_artist_data = complete_artist_raw_data.filter(lambda line:line!=complete_artist_data_header)\n",
    "complete_artist_data = complete_artist_data.map(lambda tokens: (int(tokens[0]),tokens[1])).cache()"
   ]
  },
  {
   "cell_type": "code",
   "execution_count": 80,
   "metadata": {},
   "outputs": [],
   "source": [
    "artist_data = complete_artist_data.map(lambda x: [x[0],x[1]])"
   ]
  },
  {
   "cell_type": "markdown",
   "metadata": {},
   "source": [
    "<html>\n",
    "<font color = DarkBlue>\n",
    "<b>Print the recommended artists for a single user </b>\n",
    "</font>\n",
    "</html>"
   ]
  },
  {
   "cell_type": "code",
   "execution_count": 81,
   "metadata": {},
   "outputs": [
    {
     "data": {
      "text/plain": [
       "[u'XP8',\n",
       " u'Autumn',\n",
       " u'Spazz',\n",
       " u'Claire Voyant',\n",
       " u'Leathermouth',\n",
       " u'Ludov',\n",
       " u'Yelawolf',\n",
       " u'Yashin',\n",
       " u'\\uc7a5\\uadfc\\uc11d',\n",
       " u'\\ubbfc\\ud638']"
      ]
     },
     "execution_count": 81,
     "metadata": {},
     "output_type": "execute_result"
    }
   ],
   "source": [
    "def ArtistNames(line):\n",
    "    if line[0] in [recomm_to_singleuser[i][1] for i in range(len(recomm_to_singleuser))]:\n",
    "        return True\n",
    "    else:\n",
    "        return False\n",
    "\n",
    "recList1 =artist_data.filter(lambda line: ArtistNames(line)).map(lambda x : x[1]).collect()\n",
    "recList1"
   ]
  },
  {
   "cell_type": "markdown",
   "metadata": {
    "collapsed": true
   },
   "source": [
    "<html>\n",
    "<font color = Purple size = 4>\n",
    "<b> Recommend top users </b>\n",
    "</font>\n",
    "</html>"
   ]
  },
  {
   "cell_type": "markdown",
   "metadata": {},
   "source": [
    "<html>\n",
    "<font color = DarkBlue>\n",
    "<b> I will now recommend multiple users for each Artist using recommendUsersForProducts() </b>\n",
    "</font>\n",
    "</html>"
   ]
  },
  {
   "cell_type": "code",
   "execution_count": 82,
   "metadata": {},
   "outputs": [],
   "source": [
    "recomm_multiusers_eachartist = model.recommendUsersForProducts(5).take(100)"
   ]
  },
  {
   "cell_type": "code",
   "execution_count": 83,
   "metadata": {},
   "outputs": [
    {
     "data": {
      "text/plain": [
       "list"
      ]
     },
     "execution_count": 83,
     "metadata": {},
     "output_type": "execute_result"
    }
   ],
   "source": [
    "type(recomm_multiusers_eachartist)"
   ]
  },
  {
   "cell_type": "code",
   "execution_count": 84,
   "metadata": {},
   "outputs": [
    {
     "data": {
      "text/plain": [
       "[(9200,\n",
       "  (Rating(user=855, product=9200, rating=570.1442047272882),\n",
       "   Rating(user=232, product=9200, rating=563.8867761043575),\n",
       "   Rating(user=1210, product=9200, rating=532.2885439050583),\n",
       "   Rating(user=107, product=9200, rating=529.5467181843226),\n",
       "   Rating(user=2072, product=9200, rating=431.93235168916954))),\n",
       " (17984,\n",
       "  (Rating(user=1533, product=17984, rating=1243.023548125302),\n",
       "   Rating(user=778, product=17984, rating=1189.8987447219183),\n",
       "   Rating(user=2031, product=17984, rating=1103.8234921273352),\n",
       "   Rating(user=1504, product=17984, rating=1084.324824676714),\n",
       "   Rating(user=455, product=17984, rating=1083.668583853767))),\n",
       " (3456,\n",
       "  (Rating(user=104, product=3456, rating=2993.4420117351424),\n",
       "   Rating(user=855, product=3456, rating=2668.758684263352),\n",
       "   Rating(user=107, product=3456, rating=2627.856262386688),\n",
       "   Rating(user=1961, product=3456, rating=2615.733364711322),\n",
       "   Rating(user=2072, product=3456, rating=2404.7755352275817))),\n",
       " (6400,\n",
       "  (Rating(user=2031, product=6400, rating=1837.1320007385657),\n",
       "   Rating(user=104, product=6400, rating=1836.5656268945058),\n",
       "   Rating(user=1533, product=6400, rating=1830.7858923019376),\n",
       "   Rating(user=1504, product=6400, rating=1756.7612047916482),\n",
       "   Rating(user=778, product=6400, rating=1672.7620908712197))),\n",
       " (13968,\n",
       "  (Rating(user=104, product=13968, rating=2531.172598146277),\n",
       "   Rating(user=1961, product=13968, rating=2341.236281958634),\n",
       "   Rating(user=2031, product=13968, rating=2278.7376099175717),\n",
       "   Rating(user=2072, product=13968, rating=2159.648603605774),\n",
       "   Rating(user=621, product=13968, rating=2152.8984087798744)))]"
      ]
     },
     "execution_count": 84,
     "metadata": {},
     "output_type": "execute_result"
    }
   ],
   "source": [
    "recomm_multiusers_eachartist[0:5]"
   ]
  },
  {
   "cell_type": "markdown",
   "metadata": {},
   "source": [
    "<html>\n",
    "<font color = DarkBlue>\n",
    "<b> I will now recommend multiple users for a single Artist using recommendUsers() </b>\n",
    "</font>\n",
    "</html>"
   ]
  },
  {
   "cell_type": "code",
   "execution_count": 85,
   "metadata": {},
   "outputs": [],
   "source": [
    "#Artist_id = 13968\n",
    "recomm_multiusers_singleartist = model.recommendUsers(13968,100)"
   ]
  },
  {
   "cell_type": "code",
   "execution_count": 86,
   "metadata": {},
   "outputs": [
    {
     "data": {
      "text/plain": [
       "list"
      ]
     },
     "execution_count": 86,
     "metadata": {},
     "output_type": "execute_result"
    }
   ],
   "source": [
    "type(recomm_multiusers_singleartist)"
   ]
  },
  {
   "cell_type": "code",
   "execution_count": 87,
   "metadata": {},
   "outputs": [
    {
     "data": {
      "text/plain": [
       "[Rating(user=104, product=13968, rating=2531.172598146277),\n",
       " Rating(user=1961, product=13968, rating=2341.236281958634),\n",
       " Rating(user=2031, product=13968, rating=2278.7376099175717),\n",
       " Rating(user=2072, product=13968, rating=2159.648603605774),\n",
       " Rating(user=621, product=13968, rating=2152.8984087798744)]"
      ]
     },
     "execution_count": 87,
     "metadata": {},
     "output_type": "execute_result"
    }
   ],
   "source": [
    "recomm_multiusers_singleartist[0:5]"
   ]
  }
 ],
 "metadata": {
  "anaconda-cloud": {},
  "kernelspec": {
   "display_name": "Python 3",
   "language": "python",
   "name": "python3"
  },
  "language_info": {
   "codemirror_mode": {
    "name": "ipython",
    "version": 3
   },
   "file_extension": ".py",
   "mimetype": "text/x-python",
   "name": "python",
   "nbconvert_exporter": "python",
   "pygments_lexer": "ipython3",
   "version": "3.6.1"
  }
 },
 "nbformat": 4,
 "nbformat_minor": 1
}
