{
 "cells": [
  {
   "cell_type": "markdown",
   "metadata": {},
   "source": [
    "### Build Prediction Model to predict whether a user will listen to an Artist’s songs"
   ]
  },
  {
   "cell_type": "markdown",
   "metadata": {},
   "source": [
    "## Read Data <a name=\"read_data\"></a>"
   ]
  },
  {
   "cell_type": "code",
   "execution_count": 1,
   "metadata": {
    "collapsed": true
   },
   "outputs": [],
   "source": [
    "import pandas as pd"
   ]
  },
  {
   "cell_type": "code",
   "execution_count": 2,
   "metadata": {
    "collapsed": true
   },
   "outputs": [],
   "source": [
    "# Read file\n",
    "plays_data = pd.read_csv(\"/cxldata/gle/usersha1-artmbid-artname-plays.tsv\",sep=\"\\t\",header=None)"
   ]
  },
  {
   "cell_type": "code",
   "execution_count": 3,
   "metadata": {
    "collapsed": true
   },
   "outputs": [],
   "source": [
    "plays_data.columns = [\"user_id\",\"artist_id\",\"artist_name\",\"no_plays\"]"
   ]
  },
  {
   "cell_type": "code",
   "execution_count": 4,
   "metadata": {},
   "outputs": [
    {
     "data": {
      "text/html": [
       "<div>\n",
       "<style>\n",
       "    .dataframe thead tr:only-child th {\n",
       "        text-align: right;\n",
       "    }\n",
       "\n",
       "    .dataframe thead th {\n",
       "        text-align: left;\n",
       "    }\n",
       "\n",
       "    .dataframe tbody tr th {\n",
       "        vertical-align: top;\n",
       "    }\n",
       "</style>\n",
       "<table border=\"1\" class=\"dataframe\">\n",
       "  <thead>\n",
       "    <tr style=\"text-align: right;\">\n",
       "      <th></th>\n",
       "      <th>0</th>\n",
       "      <th>1</th>\n",
       "      <th>2</th>\n",
       "      <th>3</th>\n",
       "      <th>4</th>\n",
       "    </tr>\n",
       "  </thead>\n",
       "  <tbody>\n",
       "    <tr>\n",
       "      <th>0</th>\n",
       "      <td>00000c289a1829a808ac09c00daf10bc3c4e223b</td>\n",
       "      <td>f</td>\n",
       "      <td>22.0</td>\n",
       "      <td>Germany</td>\n",
       "      <td>Feb 1, 2007</td>\n",
       "    </tr>\n",
       "    <tr>\n",
       "      <th>1</th>\n",
       "      <td>00001411dc427966b17297bf4d69e7e193135d89</td>\n",
       "      <td>f</td>\n",
       "      <td>NaN</td>\n",
       "      <td>Canada</td>\n",
       "      <td>Dec 4, 2007</td>\n",
       "    </tr>\n",
       "    <tr>\n",
       "      <th>2</th>\n",
       "      <td>00004d2ac9316e22dc007ab2243d6fcb239e707d</td>\n",
       "      <td>NaN</td>\n",
       "      <td>NaN</td>\n",
       "      <td>Germany</td>\n",
       "      <td>Sep 1, 2006</td>\n",
       "    </tr>\n",
       "    <tr>\n",
       "      <th>3</th>\n",
       "      <td>000063d3fe1cf2ba248b9e3c3f0334845a27a6bf</td>\n",
       "      <td>m</td>\n",
       "      <td>19.0</td>\n",
       "      <td>Mexico</td>\n",
       "      <td>Apr 28, 2008</td>\n",
       "    </tr>\n",
       "    <tr>\n",
       "      <th>4</th>\n",
       "      <td>00007a47085b9aab8af55f52ec8846ac479ac4fe</td>\n",
       "      <td>m</td>\n",
       "      <td>28.0</td>\n",
       "      <td>United States</td>\n",
       "      <td>Jan 27, 2006</td>\n",
       "    </tr>\n",
       "  </tbody>\n",
       "</table>\n",
       "</div>"
      ],
      "text/plain": [
       "                                          0    1     2              3  \\\n",
       "0  00000c289a1829a808ac09c00daf10bc3c4e223b    f  22.0        Germany   \n",
       "1  00001411dc427966b17297bf4d69e7e193135d89    f   NaN         Canada   \n",
       "2  00004d2ac9316e22dc007ab2243d6fcb239e707d  NaN   NaN        Germany   \n",
       "3  000063d3fe1cf2ba248b9e3c3f0334845a27a6bf    m  19.0         Mexico   \n",
       "4  00007a47085b9aab8af55f52ec8846ac479ac4fe    m  28.0  United States   \n",
       "\n",
       "              4  \n",
       "0   Feb 1, 2007  \n",
       "1   Dec 4, 2007  \n",
       "2   Sep 1, 2006  \n",
       "3  Apr 28, 2008  \n",
       "4  Jan 27, 2006  "
      ]
     },
     "execution_count": 4,
     "metadata": {},
     "output_type": "execute_result"
    }
   ],
   "source": [
    "# Read user profile data\n",
    "user_profile = pd.read_csv(\"/cxldata/gle/usersha1-profile.tsv\", sep=\"\\t\",header=None)\n",
    "user_profile.head()"
   ]
  },
  {
   "cell_type": "code",
   "execution_count": 5,
   "metadata": {},
   "outputs": [
    {
     "data": {
      "text/plain": [
       "359347"
      ]
     },
     "execution_count": 5,
     "metadata": {},
     "output_type": "execute_result"
    }
   ],
   "source": [
    "user_profile.columns = [\"user_id\",\"gender\",\"age\",\"country\",\"registered_on\"]\n",
    "len(set(user_profile[\"user_id\"]))"
   ]
  },
  {
   "cell_type": "markdown",
   "metadata": {
    "collapsed": true
   },
   "source": [
    "## Predict whether User will listen to a Artist Song"
   ]
  },
  {
   "cell_type": "markdown",
   "metadata": {},
   "source": [
    "## Approach <a name=\"approach\"></a>\n",
    "\n",
    "\n",
    "This is the approach we would follow:\n",
    "    1. For any given artist id, we will look at the user ids who have listened to that artist. Such cases would be labelled as \"Yes\" in our dataset\n",
    "    2. All other users who have not listened to that particular artist would be labeled as \"NO\". This make it a binary classification problem\n",
    "    3. Instead of considering all the users (~360k) we will only consider the top 50k users\n",
    "    4. Finally, we will write a generic function for this, so that the logic can be applied for any given artist id\n",
    "    "
   ]
  },
  {
   "cell_type": "code",
   "execution_count": 6,
   "metadata": {},
   "outputs": [
    {
     "data": {
      "text/plain": [
       "358868"
      ]
     },
     "execution_count": 6,
     "metadata": {},
     "output_type": "execute_result"
    }
   ],
   "source": [
    "\n",
    "plays_data[\"user_id\"].nunique()"
   ]
  },
  {
   "cell_type": "code",
   "execution_count": 7,
   "metadata": {},
   "outputs": [
    {
     "data": {
      "text/plain": [
       "(358868,)"
      ]
     },
     "execution_count": 7,
     "metadata": {},
     "output_type": "execute_result"
    }
   ],
   "source": [
    "tot_plays_user = plays_data.groupby(\"user_id\")[\"no_plays\"].sum()\n",
    "tot_plays_artist = plays_data.groupby(\"artist_id\")[\"no_plays\"].sum()\n",
    "tot_plays_user.shape"
   ]
  },
  {
   "cell_type": "code",
   "execution_count": 8,
   "metadata": {
    "collapsed": true
   },
   "outputs": [],
   "source": [
    "tot_plays_user.sort_values(ascending=False,inplace=True)\n",
    "tot_plays_artist.sort_values(ascending=False,inplace=True)"
   ]
  },
  {
   "cell_type": "code",
   "execution_count": 9,
   "metadata": {
    "collapsed": true
   },
   "outputs": [],
   "source": [
    "# We next select the top 50k artists as per the no of times they have been played\n",
    "top_50k_users = tot_plays_user.index[0:50000]"
   ]
  },
  {
   "cell_type": "markdown",
   "metadata": {},
   "source": [
    "<b> We would next build a classification model for the 1st artist.\n",
    "We would eventually create a generic function so that we can run the logic for any given artist id\n",
    "</b>"
   ]
  },
  {
   "cell_type": "code",
   "execution_count": 10,
   "metadata": {},
   "outputs": [
    {
     "data": {
      "text/plain": [
       "'b10bbbfc-cf9e-42e0-be17-e2c3e1d2600d'"
      ]
     },
     "execution_count": 10,
     "metadata": {},
     "output_type": "execute_result"
    }
   ],
   "source": [
    "selected_artist = tot_plays_artist.index[0]\n",
    "selected_artist"
   ]
  },
  {
   "cell_type": "code",
   "execution_count": 11,
   "metadata": {
    "collapsed": true
   },
   "outputs": [],
   "source": [
    "# WE next filter our total plays dataset on this artist id as well as the top 50k user ids\n",
    "artist_play_data = plays_data[(plays_data[\"artist_id\"] == selected_artist) & (plays_data[\"user_id\"].isin(top_50k_users))]"
   ]
  },
  {
   "cell_type": "code",
   "execution_count": 12,
   "metadata": {},
   "outputs": [
    {
     "data": {
      "text/html": [
       "<div>\n",
       "<style>\n",
       "    .dataframe thead tr:only-child th {\n",
       "        text-align: right;\n",
       "    }\n",
       "\n",
       "    .dataframe thead th {\n",
       "        text-align: left;\n",
       "    }\n",
       "\n",
       "    .dataframe tbody tr th {\n",
       "        vertical-align: top;\n",
       "    }\n",
       "</style>\n",
       "<table border=\"1\" class=\"dataframe\">\n",
       "  <thead>\n",
       "    <tr style=\"text-align: right;\">\n",
       "      <th></th>\n",
       "      <th>user_id</th>\n",
       "      <th>artist_id</th>\n",
       "      <th>artist_name</th>\n",
       "      <th>no_plays</th>\n",
       "    </tr>\n",
       "  </thead>\n",
       "  <tbody>\n",
       "    <tr>\n",
       "      <th>257</th>\n",
       "      <td>0000c176103e538d5c9828e695fed4f7ae42dd01</td>\n",
       "      <td>b10bbbfc-cf9e-42e0-be17-e2c3e1d2600d</td>\n",
       "      <td>the beatles</td>\n",
       "      <td>704</td>\n",
       "    </tr>\n",
       "    <tr>\n",
       "      <th>547</th>\n",
       "      <td>000163263d2a41a3966a3746855b8b75b7d7aa83</td>\n",
       "      <td>b10bbbfc-cf9e-42e0-be17-e2c3e1d2600d</td>\n",
       "      <td>the beatles</td>\n",
       "      <td>170</td>\n",
       "    </tr>\n",
       "    <tr>\n",
       "      <th>1544</th>\n",
       "      <td>000532f6886f086f61037acd896828f0b5b36bf2</td>\n",
       "      <td>b10bbbfc-cf9e-42e0-be17-e2c3e1d2600d</td>\n",
       "      <td>the beatles</td>\n",
       "      <td>3182</td>\n",
       "    </tr>\n",
       "    <tr>\n",
       "      <th>2050</th>\n",
       "      <td>000752c87a61bc4247f5219b4769c347c0062c8a</td>\n",
       "      <td>b10bbbfc-cf9e-42e0-be17-e2c3e1d2600d</td>\n",
       "      <td>the beatles</td>\n",
       "      <td>248</td>\n",
       "    </tr>\n",
       "    <tr>\n",
       "      <th>10080</th>\n",
       "      <td>00248667343aef7179c66db4d3d4de737403c572</td>\n",
       "      <td>b10bbbfc-cf9e-42e0-be17-e2c3e1d2600d</td>\n",
       "      <td>the beatles</td>\n",
       "      <td>321</td>\n",
       "    </tr>\n",
       "  </tbody>\n",
       "</table>\n",
       "</div>"
      ],
      "text/plain": [
       "                                        user_id  \\\n",
       "257    0000c176103e538d5c9828e695fed4f7ae42dd01   \n",
       "547    000163263d2a41a3966a3746855b8b75b7d7aa83   \n",
       "1544   000532f6886f086f61037acd896828f0b5b36bf2   \n",
       "2050   000752c87a61bc4247f5219b4769c347c0062c8a   \n",
       "10080  00248667343aef7179c66db4d3d4de737403c572   \n",
       "\n",
       "                                  artist_id  artist_name  no_plays  \n",
       "257    b10bbbfc-cf9e-42e0-be17-e2c3e1d2600d  the beatles       704  \n",
       "547    b10bbbfc-cf9e-42e0-be17-e2c3e1d2600d  the beatles       170  \n",
       "1544   b10bbbfc-cf9e-42e0-be17-e2c3e1d2600d  the beatles      3182  \n",
       "2050   b10bbbfc-cf9e-42e0-be17-e2c3e1d2600d  the beatles       248  \n",
       "10080  b10bbbfc-cf9e-42e0-be17-e2c3e1d2600d  the beatles       321  "
      ]
     },
     "execution_count": 12,
     "metadata": {},
     "output_type": "execute_result"
    }
   ],
   "source": [
    "artist_play_data.head()"
   ]
  },
  {
   "cell_type": "code",
   "execution_count": 13,
   "metadata": {},
   "outputs": [
    {
     "data": {
      "text/plain": [
       "(12264, 4)"
      ]
     },
     "execution_count": 13,
     "metadata": {},
     "output_type": "execute_result"
    }
   ],
   "source": [
    "artist_play_data.shape"
   ]
  },
  {
   "cell_type": "markdown",
   "metadata": {},
   "source": [
    "## Creating Target Variable <a name=\"target_var\"></a>"
   ]
  },
  {
   "cell_type": "markdown",
   "metadata": {},
   "source": [
    "<b> We can see that ~12k of the users have listened to this artist. i.e remaining ~38k users havent </b>\n",
    "\n",
    "We next create a dataset that we would use for training the classification model.\n",
    "The 12k users would have the \"Yes\" labels while the remaining 38k would be labeled \"NO\""
   ]
  },
  {
   "cell_type": "code",
   "execution_count": 14,
   "metadata": {},
   "outputs": [
    {
     "data": {
      "text/plain": [
       "37736"
      ]
     },
     "execution_count": 14,
     "metadata": {},
     "output_type": "execute_result"
    }
   ],
   "source": [
    "# We define 2 variables - \"users_yes\" ie users who have listeded to the artist..\n",
    "# .. and \"users_no\" iei users who have NOT listened to the artist\n",
    "users_yes = list(artist_play_data[\"user_id\"])\n",
    "users_no = [x for x in top_50k_users if x not in users_yes]\n",
    "len(users_no)"
   ]
  },
  {
   "cell_type": "code",
   "execution_count": 15,
   "metadata": {},
   "outputs": [
    {
     "data": {
      "text/plain": [
       "(50000, 2)"
      ]
     },
     "execution_count": 15,
     "metadata": {},
     "output_type": "execute_result"
    }
   ],
   "source": [
    "# Finally we create our model dataset\n",
    "\n",
    "users_yes_df = pd.DataFrame({\"user_id\": users_yes,\"target\": 1})\n",
    "users_no_df = pd.DataFrame({\"user_id\": users_no,\"target\": 0})\n",
    "model_df = pd.concat([users_yes_df,users_no_df])\n",
    "model_df.shape"
   ]
  },
  {
   "cell_type": "code",
   "execution_count": 16,
   "metadata": {},
   "outputs": [
    {
     "data": {
      "text/plain": [
       "0    37736\n",
       "1    12264\n",
       "Name: target, dtype: int64"
      ]
     },
     "execution_count": 16,
     "metadata": {},
     "output_type": "execute_result"
    }
   ],
   "source": [
    "model_df[\"target\"].value_counts()"
   ]
  },
  {
   "cell_type": "markdown",
   "metadata": {},
   "source": [
    "<b> So we finally have our model dataset with the target variable.\n",
    "We next need to map the features corresponing too each user id</b>"
   ]
  },
  {
   "cell_type": "markdown",
   "metadata": {},
   "source": [
    "## Creating Features/Feature Engineering <a name=\"features\"></a>"
   ]
  },
  {
   "cell_type": "code",
   "execution_count": 17,
   "metadata": {},
   "outputs": [
    {
     "data": {
      "text/html": [
       "<div>\n",
       "<style>\n",
       "    .dataframe thead tr:only-child th {\n",
       "        text-align: right;\n",
       "    }\n",
       "\n",
       "    .dataframe thead th {\n",
       "        text-align: left;\n",
       "    }\n",
       "\n",
       "    .dataframe tbody tr th {\n",
       "        vertical-align: top;\n",
       "    }\n",
       "</style>\n",
       "<table border=\"1\" class=\"dataframe\">\n",
       "  <thead>\n",
       "    <tr style=\"text-align: right;\">\n",
       "      <th></th>\n",
       "      <th>target</th>\n",
       "      <th>user_id</th>\n",
       "      <th>gender</th>\n",
       "      <th>age</th>\n",
       "      <th>country</th>\n",
       "      <th>registered_on</th>\n",
       "    </tr>\n",
       "  </thead>\n",
       "  <tbody>\n",
       "    <tr>\n",
       "      <th>0</th>\n",
       "      <td>1</td>\n",
       "      <td>0000c176103e538d5c9828e695fed4f7ae42dd01</td>\n",
       "      <td>m</td>\n",
       "      <td>20.0</td>\n",
       "      <td>United Kingdom</td>\n",
       "      <td>Jan 14, 2006</td>\n",
       "    </tr>\n",
       "    <tr>\n",
       "      <th>1</th>\n",
       "      <td>1</td>\n",
       "      <td>000163263d2a41a3966a3746855b8b75b7d7aa83</td>\n",
       "      <td>m</td>\n",
       "      <td>27.0</td>\n",
       "      <td>Sweden</td>\n",
       "      <td>Jan 5, 2007</td>\n",
       "    </tr>\n",
       "    <tr>\n",
       "      <th>2</th>\n",
       "      <td>1</td>\n",
       "      <td>000532f6886f086f61037acd896828f0b5b36bf2</td>\n",
       "      <td>f</td>\n",
       "      <td>NaN</td>\n",
       "      <td>Finland</td>\n",
       "      <td>Feb 12, 2006</td>\n",
       "    </tr>\n",
       "    <tr>\n",
       "      <th>3</th>\n",
       "      <td>1</td>\n",
       "      <td>000752c87a61bc4247f5219b4769c347c0062c8a</td>\n",
       "      <td>f</td>\n",
       "      <td>21.0</td>\n",
       "      <td>United States</td>\n",
       "      <td>Jul 18, 2005</td>\n",
       "    </tr>\n",
       "    <tr>\n",
       "      <th>4</th>\n",
       "      <td>1</td>\n",
       "      <td>00248667343aef7179c66db4d3d4de737403c572</td>\n",
       "      <td>m</td>\n",
       "      <td>20.0</td>\n",
       "      <td>Sweden</td>\n",
       "      <td>Apr 15, 2004</td>\n",
       "    </tr>\n",
       "  </tbody>\n",
       "</table>\n",
       "</div>"
      ],
      "text/plain": [
       "   target                                   user_id gender   age  \\\n",
       "0       1  0000c176103e538d5c9828e695fed4f7ae42dd01      m  20.0   \n",
       "1       1  000163263d2a41a3966a3746855b8b75b7d7aa83      m  27.0   \n",
       "2       1  000532f6886f086f61037acd896828f0b5b36bf2      f   NaN   \n",
       "3       1  000752c87a61bc4247f5219b4769c347c0062c8a      f  21.0   \n",
       "4       1  00248667343aef7179c66db4d3d4de737403c572      m  20.0   \n",
       "\n",
       "          country registered_on  \n",
       "0  United Kingdom  Jan 14, 2006  \n",
       "1          Sweden   Jan 5, 2007  \n",
       "2         Finland  Feb 12, 2006  \n",
       "3   United States  Jul 18, 2005  \n",
       "4          Sweden  Apr 15, 2004  "
      ]
     },
     "execution_count": 17,
     "metadata": {},
     "output_type": "execute_result"
    }
   ],
   "source": [
    "# Map features\n",
    "model_df_with_features = pd.merge(model_df, user_profile, on = \"user_id\",how=\"left\")\n",
    "model_df_with_features.head()"
   ]
  },
  {
   "cell_type": "code",
   "execution_count": 18,
   "metadata": {},
   "outputs": [
    {
     "data": {
      "text/plain": [
       "target              0\n",
       "user_id             0\n",
       "gender           3794\n",
       "age              6857\n",
       "country             0\n",
       "registered_on       0\n",
       "dtype: int64"
      ]
     },
     "execution_count": 18,
     "metadata": {},
     "output_type": "execute_result"
    }
   ],
   "source": [
    "# WE next check for missing values\n",
    "model_df_with_features.isnull().sum()"
   ]
  },
  {
   "cell_type": "code",
   "execution_count": 19,
   "metadata": {},
   "outputs": [
    {
     "data": {
      "text/plain": [
       "24.002735090281156"
      ]
     },
     "execution_count": 19,
     "metadata": {},
     "output_type": "execute_result"
    }
   ],
   "source": [
    "# We do a median imputation for age and mode imputation for gender\n",
    "age_impute = model_df_with_features[\"age\"].mean()\n",
    "gender_impute = model_df_with_features[\"gender\"].value_counts().index[0]\n",
    "age_impute"
   ]
  },
  {
   "cell_type": "code",
   "execution_count": 20,
   "metadata": {},
   "outputs": [
    {
     "data": {
      "text/plain": [
       "'m'"
      ]
     },
     "execution_count": 20,
     "metadata": {},
     "output_type": "execute_result"
    }
   ],
   "source": [
    "gender_impute"
   ]
  },
  {
   "cell_type": "code",
   "execution_count": 21,
   "metadata": {},
   "outputs": [
    {
     "data": {
      "text/html": [
       "<div>\n",
       "<style>\n",
       "    .dataframe thead tr:only-child th {\n",
       "        text-align: right;\n",
       "    }\n",
       "\n",
       "    .dataframe thead th {\n",
       "        text-align: left;\n",
       "    }\n",
       "\n",
       "    .dataframe tbody tr th {\n",
       "        vertical-align: top;\n",
       "    }\n",
       "</style>\n",
       "<table border=\"1\" class=\"dataframe\">\n",
       "  <thead>\n",
       "    <tr style=\"text-align: right;\">\n",
       "      <th></th>\n",
       "      <th>target</th>\n",
       "      <th>user_id</th>\n",
       "      <th>gender</th>\n",
       "      <th>age</th>\n",
       "      <th>country</th>\n",
       "      <th>registered_on</th>\n",
       "    </tr>\n",
       "  </thead>\n",
       "  <tbody>\n",
       "    <tr>\n",
       "      <th>0</th>\n",
       "      <td>1</td>\n",
       "      <td>0000c176103e538d5c9828e695fed4f7ae42dd01</td>\n",
       "      <td>m</td>\n",
       "      <td>20.000000</td>\n",
       "      <td>United Kingdom</td>\n",
       "      <td>Jan 14, 2006</td>\n",
       "    </tr>\n",
       "    <tr>\n",
       "      <th>1</th>\n",
       "      <td>1</td>\n",
       "      <td>000163263d2a41a3966a3746855b8b75b7d7aa83</td>\n",
       "      <td>m</td>\n",
       "      <td>27.000000</td>\n",
       "      <td>Sweden</td>\n",
       "      <td>Jan 5, 2007</td>\n",
       "    </tr>\n",
       "    <tr>\n",
       "      <th>2</th>\n",
       "      <td>1</td>\n",
       "      <td>000532f6886f086f61037acd896828f0b5b36bf2</td>\n",
       "      <td>f</td>\n",
       "      <td>24.002735</td>\n",
       "      <td>Finland</td>\n",
       "      <td>Feb 12, 2006</td>\n",
       "    </tr>\n",
       "    <tr>\n",
       "      <th>3</th>\n",
       "      <td>1</td>\n",
       "      <td>000752c87a61bc4247f5219b4769c347c0062c8a</td>\n",
       "      <td>f</td>\n",
       "      <td>21.000000</td>\n",
       "      <td>United States</td>\n",
       "      <td>Jul 18, 2005</td>\n",
       "    </tr>\n",
       "    <tr>\n",
       "      <th>4</th>\n",
       "      <td>1</td>\n",
       "      <td>00248667343aef7179c66db4d3d4de737403c572</td>\n",
       "      <td>m</td>\n",
       "      <td>20.000000</td>\n",
       "      <td>Sweden</td>\n",
       "      <td>Apr 15, 2004</td>\n",
       "    </tr>\n",
       "    <tr>\n",
       "      <th>5</th>\n",
       "      <td>1</td>\n",
       "      <td>00277ccecc376837e57b6d6b58330d1bafc90c73</td>\n",
       "      <td>m</td>\n",
       "      <td>31.000000</td>\n",
       "      <td>Brazil</td>\n",
       "      <td>Nov 11, 2007</td>\n",
       "    </tr>\n",
       "    <tr>\n",
       "      <th>6</th>\n",
       "      <td>1</td>\n",
       "      <td>0033ee7378661b88b245b1f67cc622ff63a51061</td>\n",
       "      <td>m</td>\n",
       "      <td>24.002735</td>\n",
       "      <td>United States</td>\n",
       "      <td>Jun 5, 2006</td>\n",
       "    </tr>\n",
       "    <tr>\n",
       "      <th>7</th>\n",
       "      <td>1</td>\n",
       "      <td>003c3c21a7ee4f8ce34e82f204d5aaf63432de87</td>\n",
       "      <td>m</td>\n",
       "      <td>22.000000</td>\n",
       "      <td>Turkey</td>\n",
       "      <td>Mar 14, 2007</td>\n",
       "    </tr>\n",
       "    <tr>\n",
       "      <th>8</th>\n",
       "      <td>1</td>\n",
       "      <td>00458c96257bab27657adca90732ecc4904300de</td>\n",
       "      <td>f</td>\n",
       "      <td>24.000000</td>\n",
       "      <td>Ghana</td>\n",
       "      <td>Jan 28, 2006</td>\n",
       "    </tr>\n",
       "    <tr>\n",
       "      <th>9</th>\n",
       "      <td>1</td>\n",
       "      <td>00489b25aafa16486bc0b5521fe001f46cc55b34</td>\n",
       "      <td>m</td>\n",
       "      <td>21.000000</td>\n",
       "      <td>Sweden</td>\n",
       "      <td>Aug 30, 2007</td>\n",
       "    </tr>\n",
       "    <tr>\n",
       "      <th>10</th>\n",
       "      <td>1</td>\n",
       "      <td>004925481f89f9987859b335c70b2352935e9ef6</td>\n",
       "      <td>f</td>\n",
       "      <td>21.000000</td>\n",
       "      <td>Syrian Arab Republic</td>\n",
       "      <td>Jul 3, 2006</td>\n",
       "    </tr>\n",
       "    <tr>\n",
       "      <th>11</th>\n",
       "      <td>1</td>\n",
       "      <td>0049b5ec202f9422487568e6016bcf7cad8feec4</td>\n",
       "      <td>m</td>\n",
       "      <td>44.000000</td>\n",
       "      <td>Sweden</td>\n",
       "      <td>Jan 19, 2008</td>\n",
       "    </tr>\n",
       "    <tr>\n",
       "      <th>12</th>\n",
       "      <td>1</td>\n",
       "      <td>00529a4760520df57305d20b5c48baeea4718b71</td>\n",
       "      <td>m</td>\n",
       "      <td>28.000000</td>\n",
       "      <td>Sweden</td>\n",
       "      <td>May 11, 2007</td>\n",
       "    </tr>\n",
       "    <tr>\n",
       "      <th>13</th>\n",
       "      <td>1</td>\n",
       "      <td>00560ad48e0f906da818b3a4ea0491d6c300f9cc</td>\n",
       "      <td>m</td>\n",
       "      <td>28.000000</td>\n",
       "      <td>Israel</td>\n",
       "      <td>Mar 15, 2006</td>\n",
       "    </tr>\n",
       "    <tr>\n",
       "      <th>14</th>\n",
       "      <td>1</td>\n",
       "      <td>00562cdf605a5bfe55bd971cb23bd4d05115d862</td>\n",
       "      <td>m</td>\n",
       "      <td>39.000000</td>\n",
       "      <td>United States</td>\n",
       "      <td>Oct 17, 2008</td>\n",
       "    </tr>\n",
       "    <tr>\n",
       "      <th>15</th>\n",
       "      <td>1</td>\n",
       "      <td>0058eda03d466e1e6de7512ce290e61c5272f7cc</td>\n",
       "      <td>f</td>\n",
       "      <td>17.000000</td>\n",
       "      <td>United States</td>\n",
       "      <td>Dec 16, 2007</td>\n",
       "    </tr>\n",
       "    <tr>\n",
       "      <th>16</th>\n",
       "      <td>1</td>\n",
       "      <td>0059f13cda56f7a546fb9be1b8b0604add2761f1</td>\n",
       "      <td>m</td>\n",
       "      <td>21.000000</td>\n",
       "      <td>Brazil</td>\n",
       "      <td>Dec 4, 2007</td>\n",
       "    </tr>\n",
       "    <tr>\n",
       "      <th>17</th>\n",
       "      <td>1</td>\n",
       "      <td>006ecc779bf14bb2755ce88daf9e19b3fe4d7111</td>\n",
       "      <td>m</td>\n",
       "      <td>23.000000</td>\n",
       "      <td>United Kingdom</td>\n",
       "      <td>Dec 14, 2006</td>\n",
       "    </tr>\n",
       "    <tr>\n",
       "      <th>18</th>\n",
       "      <td>1</td>\n",
       "      <td>006ee571d46691be0f199458383ba3091f76f0f8</td>\n",
       "      <td>m</td>\n",
       "      <td>21.000000</td>\n",
       "      <td>Russian Federation</td>\n",
       "      <td>Dec 21, 2008</td>\n",
       "    </tr>\n",
       "    <tr>\n",
       "      <th>19</th>\n",
       "      <td>1</td>\n",
       "      <td>006f93b4213be13020a3819e0d0a86dcf97b58de</td>\n",
       "      <td>m</td>\n",
       "      <td>24.002735</td>\n",
       "      <td>Australia</td>\n",
       "      <td>Nov 15, 2007</td>\n",
       "    </tr>\n",
       "    <tr>\n",
       "      <th>20</th>\n",
       "      <td>1</td>\n",
       "      <td>0071b4979f4066252065c3c72e8af237f42b6ed7</td>\n",
       "      <td>f</td>\n",
       "      <td>21.000000</td>\n",
       "      <td>United States</td>\n",
       "      <td>Aug 9, 2005</td>\n",
       "    </tr>\n",
       "    <tr>\n",
       "      <th>21</th>\n",
       "      <td>1</td>\n",
       "      <td>007aba22307934291990de7c6b72fef9af00ce8b</td>\n",
       "      <td>m</td>\n",
       "      <td>24.000000</td>\n",
       "      <td>United States</td>\n",
       "      <td>May 21, 2005</td>\n",
       "    </tr>\n",
       "    <tr>\n",
       "      <th>22</th>\n",
       "      <td>1</td>\n",
       "      <td>007cbd2af9e90ba0314ea57b6784d014f1eff4dc</td>\n",
       "      <td>m</td>\n",
       "      <td>18.000000</td>\n",
       "      <td>United Kingdom</td>\n",
       "      <td>Oct 22, 2006</td>\n",
       "    </tr>\n",
       "    <tr>\n",
       "      <th>23</th>\n",
       "      <td>1</td>\n",
       "      <td>0080a6b930ef753f30d2d01a700dd5d5eda6c8ca</td>\n",
       "      <td>m</td>\n",
       "      <td>31.000000</td>\n",
       "      <td>United States</td>\n",
       "      <td>Jul 20, 2005</td>\n",
       "    </tr>\n",
       "    <tr>\n",
       "      <th>24</th>\n",
       "      <td>1</td>\n",
       "      <td>0085b81ebf685d626c781cd108750d51ec33ab01</td>\n",
       "      <td>m</td>\n",
       "      <td>38.000000</td>\n",
       "      <td>United States</td>\n",
       "      <td>Feb 10, 2003</td>\n",
       "    </tr>\n",
       "    <tr>\n",
       "      <th>25</th>\n",
       "      <td>1</td>\n",
       "      <td>008eba7fbe597f0754b617e7ff53f157003086a5</td>\n",
       "      <td>m</td>\n",
       "      <td>24.002735</td>\n",
       "      <td>United States</td>\n",
       "      <td>Jul 7, 2008</td>\n",
       "    </tr>\n",
       "    <tr>\n",
       "      <th>26</th>\n",
       "      <td>1</td>\n",
       "      <td>008f9488275cd2f1c8c7e1e5208ffeec0e5c1bf4</td>\n",
       "      <td>m</td>\n",
       "      <td>25.000000</td>\n",
       "      <td>Brazil</td>\n",
       "      <td>May 24, 2007</td>\n",
       "    </tr>\n",
       "    <tr>\n",
       "      <th>27</th>\n",
       "      <td>1</td>\n",
       "      <td>0098c39506e23ee535fd5eb84a7bdebc39cf447e</td>\n",
       "      <td>m</td>\n",
       "      <td>20.000000</td>\n",
       "      <td>United Kingdom</td>\n",
       "      <td>Jun 12, 2005</td>\n",
       "    </tr>\n",
       "    <tr>\n",
       "      <th>28</th>\n",
       "      <td>1</td>\n",
       "      <td>009cf12dd18046dd0eb32f6035092817389843b3</td>\n",
       "      <td>m</td>\n",
       "      <td>36.000000</td>\n",
       "      <td>Canada</td>\n",
       "      <td>Dec 30, 2007</td>\n",
       "    </tr>\n",
       "    <tr>\n",
       "      <th>29</th>\n",
       "      <td>1</td>\n",
       "      <td>00a0ec73d5e7459233276ae9fa045a468b437fe8</td>\n",
       "      <td>m</td>\n",
       "      <td>24.002735</td>\n",
       "      <td>United States</td>\n",
       "      <td>Jul 14, 2006</td>\n",
       "    </tr>\n",
       "    <tr>\n",
       "      <th>...</th>\n",
       "      <td>...</td>\n",
       "      <td>...</td>\n",
       "      <td>...</td>\n",
       "      <td>...</td>\n",
       "      <td>...</td>\n",
       "      <td>...</td>\n",
       "    </tr>\n",
       "    <tr>\n",
       "      <th>49970</th>\n",
       "      <td>0</td>\n",
       "      <td>f73f993281d81d6e500c19ee6a31a5307bf42114</td>\n",
       "      <td>m</td>\n",
       "      <td>22.000000</td>\n",
       "      <td>Russian Federation</td>\n",
       "      <td>May 6, 2007</td>\n",
       "    </tr>\n",
       "    <tr>\n",
       "      <th>49971</th>\n",
       "      <td>0</td>\n",
       "      <td>74025cf91d24ee5f22a59a1f887316b110c05631</td>\n",
       "      <td>m</td>\n",
       "      <td>31.000000</td>\n",
       "      <td>Germany</td>\n",
       "      <td>Aug 15, 2006</td>\n",
       "    </tr>\n",
       "    <tr>\n",
       "      <th>49972</th>\n",
       "      <td>0</td>\n",
       "      <td>93596062e0e4be8009658920757cd7d72a11f889</td>\n",
       "      <td>m</td>\n",
       "      <td>19.000000</td>\n",
       "      <td>Austria</td>\n",
       "      <td>Nov 13, 2008</td>\n",
       "    </tr>\n",
       "    <tr>\n",
       "      <th>49973</th>\n",
       "      <td>0</td>\n",
       "      <td>7553ddae01f686e096532ef4bc2965ebd644c73e</td>\n",
       "      <td>m</td>\n",
       "      <td>28.000000</td>\n",
       "      <td>Germany</td>\n",
       "      <td>Jun 7, 2007</td>\n",
       "    </tr>\n",
       "    <tr>\n",
       "      <th>49974</th>\n",
       "      <td>0</td>\n",
       "      <td>09756a9e485e36ada12d9436bda6fd8109fe95a0</td>\n",
       "      <td>m</td>\n",
       "      <td>35.000000</td>\n",
       "      <td>United Kingdom</td>\n",
       "      <td>Aug 8, 2007</td>\n",
       "    </tr>\n",
       "    <tr>\n",
       "      <th>49975</th>\n",
       "      <td>0</td>\n",
       "      <td>99288fddf801329d791b01bc6e6827cf66d84a66</td>\n",
       "      <td>m</td>\n",
       "      <td>30.000000</td>\n",
       "      <td>United States</td>\n",
       "      <td>Jun 13, 2007</td>\n",
       "    </tr>\n",
       "    <tr>\n",
       "      <th>49976</th>\n",
       "      <td>0</td>\n",
       "      <td>d0319b658289ff523d5382bd756a5a5301ab24c1</td>\n",
       "      <td>m</td>\n",
       "      <td>21.000000</td>\n",
       "      <td>Switzerland</td>\n",
       "      <td>Dec 24, 2006</td>\n",
       "    </tr>\n",
       "    <tr>\n",
       "      <th>49977</th>\n",
       "      <td>0</td>\n",
       "      <td>7a626c3021b46462cc4e0b6c6ccb419eba19a202</td>\n",
       "      <td>m</td>\n",
       "      <td>21.000000</td>\n",
       "      <td>United Kingdom</td>\n",
       "      <td>Sep 10, 2005</td>\n",
       "    </tr>\n",
       "    <tr>\n",
       "      <th>49978</th>\n",
       "      <td>0</td>\n",
       "      <td>f5d3f6960f8e92fb6f85bc80b2ab593c449a7820</td>\n",
       "      <td>m</td>\n",
       "      <td>22.000000</td>\n",
       "      <td>Spain</td>\n",
       "      <td>Jan 7, 2007</td>\n",
       "    </tr>\n",
       "    <tr>\n",
       "      <th>49979</th>\n",
       "      <td>0</td>\n",
       "      <td>e250e5f9e67ec72031c67195cbd727d3de52c5ca</td>\n",
       "      <td>f</td>\n",
       "      <td>18.000000</td>\n",
       "      <td>Spain</td>\n",
       "      <td>Jul 10, 2007</td>\n",
       "    </tr>\n",
       "    <tr>\n",
       "      <th>49980</th>\n",
       "      <td>0</td>\n",
       "      <td>474348a004daba900f1a4235eb743c48f946cc9c</td>\n",
       "      <td>m</td>\n",
       "      <td>21.000000</td>\n",
       "      <td>United States</td>\n",
       "      <td>Jul 23, 2007</td>\n",
       "    </tr>\n",
       "    <tr>\n",
       "      <th>49981</th>\n",
       "      <td>0</td>\n",
       "      <td>86aa2e2dc7c0bcdaf75bab8935d0e7ee4155b33f</td>\n",
       "      <td>m</td>\n",
       "      <td>29.000000</td>\n",
       "      <td>United States</td>\n",
       "      <td>Aug 13, 2005</td>\n",
       "    </tr>\n",
       "    <tr>\n",
       "      <th>49982</th>\n",
       "      <td>0</td>\n",
       "      <td>9d7e26f412e451b7be21353961892e70800083c1</td>\n",
       "      <td>m</td>\n",
       "      <td>23.000000</td>\n",
       "      <td>Romania</td>\n",
       "      <td>Feb 22, 2006</td>\n",
       "    </tr>\n",
       "    <tr>\n",
       "      <th>49983</th>\n",
       "      <td>0</td>\n",
       "      <td>5c8fb3f1407aad9daf366b7306e04b3592fc0ebd</td>\n",
       "      <td>m</td>\n",
       "      <td>22.000000</td>\n",
       "      <td>Brazil</td>\n",
       "      <td>Apr 5, 2006</td>\n",
       "    </tr>\n",
       "    <tr>\n",
       "      <th>49984</th>\n",
       "      <td>0</td>\n",
       "      <td>1e8ca2a914926d372675348815b1aaab7aab67e1</td>\n",
       "      <td>m</td>\n",
       "      <td>24.002735</td>\n",
       "      <td>United States</td>\n",
       "      <td>Dec 19, 2007</td>\n",
       "    </tr>\n",
       "    <tr>\n",
       "      <th>49985</th>\n",
       "      <td>0</td>\n",
       "      <td>e026cf6fac0a4eb32a7b8599f27ceff4b14c0e42</td>\n",
       "      <td>m</td>\n",
       "      <td>16.000000</td>\n",
       "      <td>Germany</td>\n",
       "      <td>Jul 23, 2008</td>\n",
       "    </tr>\n",
       "    <tr>\n",
       "      <th>49986</th>\n",
       "      <td>0</td>\n",
       "      <td>2dbc76ee7b36995e33c1405b64348ab2bd40628c</td>\n",
       "      <td>f</td>\n",
       "      <td>28.000000</td>\n",
       "      <td>United States</td>\n",
       "      <td>Jul 7, 2008</td>\n",
       "    </tr>\n",
       "    <tr>\n",
       "      <th>49987</th>\n",
       "      <td>0</td>\n",
       "      <td>405c0fb0d564cb730dd61fe5fc4c315270b2a329</td>\n",
       "      <td>m</td>\n",
       "      <td>17.000000</td>\n",
       "      <td>France</td>\n",
       "      <td>Oct 31, 2007</td>\n",
       "    </tr>\n",
       "    <tr>\n",
       "      <th>49988</th>\n",
       "      <td>0</td>\n",
       "      <td>4192f663c48d20e29cddef655fd70dc2379fb275</td>\n",
       "      <td>f</td>\n",
       "      <td>16.000000</td>\n",
       "      <td>Sweden</td>\n",
       "      <td>Nov 25, 2007</td>\n",
       "    </tr>\n",
       "    <tr>\n",
       "      <th>49989</th>\n",
       "      <td>0</td>\n",
       "      <td>0a60cc03d28aa0927f8da675c9786c04df73aa76</td>\n",
       "      <td>m</td>\n",
       "      <td>23.000000</td>\n",
       "      <td>United States</td>\n",
       "      <td>May 24, 2008</td>\n",
       "    </tr>\n",
       "    <tr>\n",
       "      <th>49990</th>\n",
       "      <td>0</td>\n",
       "      <td>0a6926d512b91817549d28b8a99de79f2ebf044b</td>\n",
       "      <td>m</td>\n",
       "      <td>31.000000</td>\n",
       "      <td>Poland</td>\n",
       "      <td>Feb 16, 2006</td>\n",
       "    </tr>\n",
       "    <tr>\n",
       "      <th>49991</th>\n",
       "      <td>0</td>\n",
       "      <td>8758e831132b85248d0872c92ca77f3d553887d4</td>\n",
       "      <td>m</td>\n",
       "      <td>24.000000</td>\n",
       "      <td>France</td>\n",
       "      <td>Mar 11, 2007</td>\n",
       "    </tr>\n",
       "    <tr>\n",
       "      <th>49992</th>\n",
       "      <td>0</td>\n",
       "      <td>3b68a7a2fb32f08b90773c7d69410f1913fd6104</td>\n",
       "      <td>m</td>\n",
       "      <td>32.000000</td>\n",
       "      <td>Russian Federation</td>\n",
       "      <td>Jan 19, 2006</td>\n",
       "    </tr>\n",
       "    <tr>\n",
       "      <th>49993</th>\n",
       "      <td>0</td>\n",
       "      <td>8bb9fc2e0fed601bb6e51f7bc30a8a2716bbaa41</td>\n",
       "      <td>m</td>\n",
       "      <td>24.002735</td>\n",
       "      <td>Poland</td>\n",
       "      <td>Jan 6, 2006</td>\n",
       "    </tr>\n",
       "    <tr>\n",
       "      <th>49994</th>\n",
       "      <td>0</td>\n",
       "      <td>d8b9dbbd9ea962c960f34cfd2ee6645b917a3510</td>\n",
       "      <td>f</td>\n",
       "      <td>23.000000</td>\n",
       "      <td>United States</td>\n",
       "      <td>Nov 30, 2005</td>\n",
       "    </tr>\n",
       "    <tr>\n",
       "      <th>49995</th>\n",
       "      <td>0</td>\n",
       "      <td>e0a61422c9660b1a2049b4b36b6bdda40d640a0c</td>\n",
       "      <td>m</td>\n",
       "      <td>47.000000</td>\n",
       "      <td>United Kingdom</td>\n",
       "      <td>Feb 3, 2006</td>\n",
       "    </tr>\n",
       "    <tr>\n",
       "      <th>49996</th>\n",
       "      <td>0</td>\n",
       "      <td>fd457a02fe8e1ae6996a85dcf0d7aeea9859d815</td>\n",
       "      <td>m</td>\n",
       "      <td>24.002735</td>\n",
       "      <td>Czech Republic</td>\n",
       "      <td>May 3, 2005</td>\n",
       "    </tr>\n",
       "    <tr>\n",
       "      <th>49997</th>\n",
       "      <td>0</td>\n",
       "      <td>30ad473dc50c22331d7aa07d8121f111fabdee9c</td>\n",
       "      <td>m</td>\n",
       "      <td>29.000000</td>\n",
       "      <td>Germany</td>\n",
       "      <td>Oct 29, 2005</td>\n",
       "    </tr>\n",
       "    <tr>\n",
       "      <th>49998</th>\n",
       "      <td>0</td>\n",
       "      <td>7486e89e73046eeb3dc809931f7515b30493f9a3</td>\n",
       "      <td>f</td>\n",
       "      <td>17.000000</td>\n",
       "      <td>Argentina</td>\n",
       "      <td>Oct 4, 2007</td>\n",
       "    </tr>\n",
       "    <tr>\n",
       "      <th>49999</th>\n",
       "      <td>0</td>\n",
       "      <td>698ce05b704cab44207eb0233cecc682a5d82d2b</td>\n",
       "      <td>m</td>\n",
       "      <td>25.000000</td>\n",
       "      <td>Germany</td>\n",
       "      <td>Oct 23, 2006</td>\n",
       "    </tr>\n",
       "  </tbody>\n",
       "</table>\n",
       "<p>50000 rows × 6 columns</p>\n",
       "</div>"
      ],
      "text/plain": [
       "       target                                   user_id gender        age  \\\n",
       "0           1  0000c176103e538d5c9828e695fed4f7ae42dd01      m  20.000000   \n",
       "1           1  000163263d2a41a3966a3746855b8b75b7d7aa83      m  27.000000   \n",
       "2           1  000532f6886f086f61037acd896828f0b5b36bf2      f  24.002735   \n",
       "3           1  000752c87a61bc4247f5219b4769c347c0062c8a      f  21.000000   \n",
       "4           1  00248667343aef7179c66db4d3d4de737403c572      m  20.000000   \n",
       "5           1  00277ccecc376837e57b6d6b58330d1bafc90c73      m  31.000000   \n",
       "6           1  0033ee7378661b88b245b1f67cc622ff63a51061      m  24.002735   \n",
       "7           1  003c3c21a7ee4f8ce34e82f204d5aaf63432de87      m  22.000000   \n",
       "8           1  00458c96257bab27657adca90732ecc4904300de      f  24.000000   \n",
       "9           1  00489b25aafa16486bc0b5521fe001f46cc55b34      m  21.000000   \n",
       "10          1  004925481f89f9987859b335c70b2352935e9ef6      f  21.000000   \n",
       "11          1  0049b5ec202f9422487568e6016bcf7cad8feec4      m  44.000000   \n",
       "12          1  00529a4760520df57305d20b5c48baeea4718b71      m  28.000000   \n",
       "13          1  00560ad48e0f906da818b3a4ea0491d6c300f9cc      m  28.000000   \n",
       "14          1  00562cdf605a5bfe55bd971cb23bd4d05115d862      m  39.000000   \n",
       "15          1  0058eda03d466e1e6de7512ce290e61c5272f7cc      f  17.000000   \n",
       "16          1  0059f13cda56f7a546fb9be1b8b0604add2761f1      m  21.000000   \n",
       "17          1  006ecc779bf14bb2755ce88daf9e19b3fe4d7111      m  23.000000   \n",
       "18          1  006ee571d46691be0f199458383ba3091f76f0f8      m  21.000000   \n",
       "19          1  006f93b4213be13020a3819e0d0a86dcf97b58de      m  24.002735   \n",
       "20          1  0071b4979f4066252065c3c72e8af237f42b6ed7      f  21.000000   \n",
       "21          1  007aba22307934291990de7c6b72fef9af00ce8b      m  24.000000   \n",
       "22          1  007cbd2af9e90ba0314ea57b6784d014f1eff4dc      m  18.000000   \n",
       "23          1  0080a6b930ef753f30d2d01a700dd5d5eda6c8ca      m  31.000000   \n",
       "24          1  0085b81ebf685d626c781cd108750d51ec33ab01      m  38.000000   \n",
       "25          1  008eba7fbe597f0754b617e7ff53f157003086a5      m  24.002735   \n",
       "26          1  008f9488275cd2f1c8c7e1e5208ffeec0e5c1bf4      m  25.000000   \n",
       "27          1  0098c39506e23ee535fd5eb84a7bdebc39cf447e      m  20.000000   \n",
       "28          1  009cf12dd18046dd0eb32f6035092817389843b3      m  36.000000   \n",
       "29          1  00a0ec73d5e7459233276ae9fa045a468b437fe8      m  24.002735   \n",
       "...       ...                                       ...    ...        ...   \n",
       "49970       0  f73f993281d81d6e500c19ee6a31a5307bf42114      m  22.000000   \n",
       "49971       0  74025cf91d24ee5f22a59a1f887316b110c05631      m  31.000000   \n",
       "49972       0  93596062e0e4be8009658920757cd7d72a11f889      m  19.000000   \n",
       "49973       0  7553ddae01f686e096532ef4bc2965ebd644c73e      m  28.000000   \n",
       "49974       0  09756a9e485e36ada12d9436bda6fd8109fe95a0      m  35.000000   \n",
       "49975       0  99288fddf801329d791b01bc6e6827cf66d84a66      m  30.000000   \n",
       "49976       0  d0319b658289ff523d5382bd756a5a5301ab24c1      m  21.000000   \n",
       "49977       0  7a626c3021b46462cc4e0b6c6ccb419eba19a202      m  21.000000   \n",
       "49978       0  f5d3f6960f8e92fb6f85bc80b2ab593c449a7820      m  22.000000   \n",
       "49979       0  e250e5f9e67ec72031c67195cbd727d3de52c5ca      f  18.000000   \n",
       "49980       0  474348a004daba900f1a4235eb743c48f946cc9c      m  21.000000   \n",
       "49981       0  86aa2e2dc7c0bcdaf75bab8935d0e7ee4155b33f      m  29.000000   \n",
       "49982       0  9d7e26f412e451b7be21353961892e70800083c1      m  23.000000   \n",
       "49983       0  5c8fb3f1407aad9daf366b7306e04b3592fc0ebd      m  22.000000   \n",
       "49984       0  1e8ca2a914926d372675348815b1aaab7aab67e1      m  24.002735   \n",
       "49985       0  e026cf6fac0a4eb32a7b8599f27ceff4b14c0e42      m  16.000000   \n",
       "49986       0  2dbc76ee7b36995e33c1405b64348ab2bd40628c      f  28.000000   \n",
       "49987       0  405c0fb0d564cb730dd61fe5fc4c315270b2a329      m  17.000000   \n",
       "49988       0  4192f663c48d20e29cddef655fd70dc2379fb275      f  16.000000   \n",
       "49989       0  0a60cc03d28aa0927f8da675c9786c04df73aa76      m  23.000000   \n",
       "49990       0  0a6926d512b91817549d28b8a99de79f2ebf044b      m  31.000000   \n",
       "49991       0  8758e831132b85248d0872c92ca77f3d553887d4      m  24.000000   \n",
       "49992       0  3b68a7a2fb32f08b90773c7d69410f1913fd6104      m  32.000000   \n",
       "49993       0  8bb9fc2e0fed601bb6e51f7bc30a8a2716bbaa41      m  24.002735   \n",
       "49994       0  d8b9dbbd9ea962c960f34cfd2ee6645b917a3510      f  23.000000   \n",
       "49995       0  e0a61422c9660b1a2049b4b36b6bdda40d640a0c      m  47.000000   \n",
       "49996       0  fd457a02fe8e1ae6996a85dcf0d7aeea9859d815      m  24.002735   \n",
       "49997       0  30ad473dc50c22331d7aa07d8121f111fabdee9c      m  29.000000   \n",
       "49998       0  7486e89e73046eeb3dc809931f7515b30493f9a3      f  17.000000   \n",
       "49999       0  698ce05b704cab44207eb0233cecc682a5d82d2b      m  25.000000   \n",
       "\n",
       "                    country registered_on  \n",
       "0            United Kingdom  Jan 14, 2006  \n",
       "1                    Sweden   Jan 5, 2007  \n",
       "2                   Finland  Feb 12, 2006  \n",
       "3             United States  Jul 18, 2005  \n",
       "4                    Sweden  Apr 15, 2004  \n",
       "5                    Brazil  Nov 11, 2007  \n",
       "6             United States   Jun 5, 2006  \n",
       "7                    Turkey  Mar 14, 2007  \n",
       "8                     Ghana  Jan 28, 2006  \n",
       "9                    Sweden  Aug 30, 2007  \n",
       "10     Syrian Arab Republic   Jul 3, 2006  \n",
       "11                   Sweden  Jan 19, 2008  \n",
       "12                   Sweden  May 11, 2007  \n",
       "13                   Israel  Mar 15, 2006  \n",
       "14            United States  Oct 17, 2008  \n",
       "15            United States  Dec 16, 2007  \n",
       "16                   Brazil   Dec 4, 2007  \n",
       "17           United Kingdom  Dec 14, 2006  \n",
       "18       Russian Federation  Dec 21, 2008  \n",
       "19                Australia  Nov 15, 2007  \n",
       "20            United States   Aug 9, 2005  \n",
       "21            United States  May 21, 2005  \n",
       "22           United Kingdom  Oct 22, 2006  \n",
       "23            United States  Jul 20, 2005  \n",
       "24            United States  Feb 10, 2003  \n",
       "25            United States   Jul 7, 2008  \n",
       "26                   Brazil  May 24, 2007  \n",
       "27           United Kingdom  Jun 12, 2005  \n",
       "28                   Canada  Dec 30, 2007  \n",
       "29            United States  Jul 14, 2006  \n",
       "...                     ...           ...  \n",
       "49970    Russian Federation   May 6, 2007  \n",
       "49971               Germany  Aug 15, 2006  \n",
       "49972               Austria  Nov 13, 2008  \n",
       "49973               Germany   Jun 7, 2007  \n",
       "49974        United Kingdom   Aug 8, 2007  \n",
       "49975         United States  Jun 13, 2007  \n",
       "49976           Switzerland  Dec 24, 2006  \n",
       "49977        United Kingdom  Sep 10, 2005  \n",
       "49978                 Spain   Jan 7, 2007  \n",
       "49979                 Spain  Jul 10, 2007  \n",
       "49980         United States  Jul 23, 2007  \n",
       "49981         United States  Aug 13, 2005  \n",
       "49982               Romania  Feb 22, 2006  \n",
       "49983                Brazil   Apr 5, 2006  \n",
       "49984         United States  Dec 19, 2007  \n",
       "49985               Germany  Jul 23, 2008  \n",
       "49986         United States   Jul 7, 2008  \n",
       "49987                France  Oct 31, 2007  \n",
       "49988                Sweden  Nov 25, 2007  \n",
       "49989         United States  May 24, 2008  \n",
       "49990                Poland  Feb 16, 2006  \n",
       "49991                France  Mar 11, 2007  \n",
       "49992    Russian Federation  Jan 19, 2006  \n",
       "49993                Poland   Jan 6, 2006  \n",
       "49994         United States  Nov 30, 2005  \n",
       "49995        United Kingdom   Feb 3, 2006  \n",
       "49996        Czech Republic   May 3, 2005  \n",
       "49997               Germany  Oct 29, 2005  \n",
       "49998             Argentina   Oct 4, 2007  \n",
       "49999               Germany  Oct 23, 2006  \n",
       "\n",
       "[50000 rows x 6 columns]"
      ]
     },
     "execution_count": 21,
     "metadata": {},
     "output_type": "execute_result"
    }
   ],
   "source": [
    "model_df_with_features.fillna({\"age\": age_impute, \"gender\": gender_impute}, inplace = True)"
   ]
  },
  {
   "cell_type": "code",
   "execution_count": 22,
   "metadata": {},
   "outputs": [
    {
     "data": {
      "text/plain": [
       "target           0\n",
       "user_id          0\n",
       "gender           0\n",
       "age              0\n",
       "country          0\n",
       "registered_on    0\n",
       "dtype: int64"
      ]
     },
     "execution_count": 22,
     "metadata": {},
     "output_type": "execute_result"
    }
   ],
   "source": [
    "model_df_with_features.isnull().sum()"
   ]
  },
  {
   "cell_type": "code",
   "execution_count": 23,
   "metadata": {},
   "outputs": [
    {
     "data": {
      "text/plain": [
       "0   2006-01-14\n",
       "1   2007-01-05\n",
       "2   2006-02-12\n",
       "3   2005-07-18\n",
       "4   2004-04-15\n",
       "Name: registered_on, dtype: datetime64[ns]"
      ]
     },
     "execution_count": 23,
     "metadata": {},
     "output_type": "execute_result"
    }
   ],
   "source": [
    "# WE convert the registration date into no.of days since registered\n",
    "model_df_with_features[\"registered_on\"] = pd.to_datetime(model_df_with_features[\"registered_on\"])\n",
    "model_df_with_features[\"registered_on\"][0:5]\n"
   ]
  },
  {
   "cell_type": "code",
   "execution_count": 24,
   "metadata": {
    "collapsed": true
   },
   "outputs": [],
   "source": [
    "model_df_with_features[\"curr_date\"] = pd.to_datetime(\"2017-12-01\")"
   ]
  },
  {
   "cell_type": "code",
   "execution_count": 25,
   "metadata": {
    "collapsed": true
   },
   "outputs": [],
   "source": [
    "duration = model_df_with_features[\"curr_date\"] - model_df_with_features[\"registered_on\"]"
   ]
  },
  {
   "cell_type": "code",
   "execution_count": 26,
   "metadata": {
    "collapsed": true
   },
   "outputs": [],
   "source": [
    "import numpy as np\n",
    "duration=(duration / np.timedelta64(1, 'D')).astype(int)"
   ]
  },
  {
   "cell_type": "code",
   "execution_count": 27,
   "metadata": {
    "collapsed": true
   },
   "outputs": [],
   "source": [
    "model_df_with_features[\"duration\"] = duration"
   ]
  },
  {
   "cell_type": "code",
   "execution_count": 28,
   "metadata": {
    "collapsed": true
   },
   "outputs": [],
   "source": [
    "# Finally we drop the registred and curr date columns\n",
    "model_df_with_features.drop(labels = [\"curr_date\",\"registered_on\"],axis=1,inplace=True)"
   ]
  },
  {
   "cell_type": "markdown",
   "metadata": {},
   "source": [
    "### 1-hot-encoding of Country Variable"
   ]
  },
  {
   "cell_type": "code",
   "execution_count": 29,
   "metadata": {},
   "outputs": [
    {
     "data": {
      "text/plain": [
       "220"
      ]
     },
     "execution_count": 29,
     "metadata": {},
     "output_type": "execute_result"
    }
   ],
   "source": [
    "model_df_with_features[\"country\"].nunique()"
   ]
  },
  {
   "cell_type": "markdown",
   "metadata": {},
   "source": [
    "We have a total of 220 countries. Instead of considering all these countries, we consider the top 50 countries (as per count). All other countries are clubbed as \"Others\""
   ]
  },
  {
   "cell_type": "code",
   "execution_count": 30,
   "metadata": {},
   "outputs": [
    {
     "data": {
      "text/plain": [
       "Index([u'United States', u'Germany', u'United Kingdom', u'Poland', u'Sweden',\n",
       "       u'Finland', u'Russian Federation', u'Brazil', u'Canada', u'Australia',\n",
       "       u'Netherlands', u'Japan', u'Spain', u'Norway', u'France',\n",
       "       u'Czech Republic', u'Mexico', u'Turkey', u'Ukraine', u'Belgium',\n",
       "       u'Italy', u'Bulgaria', u'Portugal', u'Austria', u'Croatia', u'Denmark',\n",
       "       u'Romania', u'Switzerland', u'Argentina', u'Chile', u'Lithuania',\n",
       "       u'New Zealand', u'Latvia', u'Estonia', u'Slovakia', u'Serbia',\n",
       "       u'Ireland', u'Hungary', u'Belarus', u'Israel', u'Slovenia', u'Colombia',\n",
       "       u'Greece', u'South Africa', u'Thailand', u'Venezuela', u'Antarctica',\n",
       "       u'Philippines', u'India', u'China'],\n",
       "      dtype='object')"
      ]
     },
     "execution_count": 30,
     "metadata": {},
     "output_type": "execute_result"
    }
   ],
   "source": [
    "top_countries = model_df_with_features[\"country\"].value_counts().index[0:50]\n",
    "top_countries"
   ]
  },
  {
   "cell_type": "code",
   "execution_count": 31,
   "metadata": {
    "collapsed": true
   },
   "outputs": [],
   "source": [
    "# We update the country column\n",
    "import numpy as np\n",
    "model_df_with_features[\"country\"] = np.where(model_df_with_features[\"country\"].isin(top_countries),\n",
    "                                            model_df_with_features[\"country\"],\"Others\")"
   ]
  },
  {
   "cell_type": "code",
   "execution_count": 32,
   "metadata": {},
   "outputs": [
    {
     "data": {
      "text/html": [
       "<div>\n",
       "<style>\n",
       "    .dataframe thead tr:only-child th {\n",
       "        text-align: right;\n",
       "    }\n",
       "\n",
       "    .dataframe thead th {\n",
       "        text-align: left;\n",
       "    }\n",
       "\n",
       "    .dataframe tbody tr th {\n",
       "        vertical-align: top;\n",
       "    }\n",
       "</style>\n",
       "<table border=\"1\" class=\"dataframe\">\n",
       "  <thead>\n",
       "    <tr style=\"text-align: right;\">\n",
       "      <th></th>\n",
       "      <th>Antarctica</th>\n",
       "      <th>Argentina</th>\n",
       "      <th>Australia</th>\n",
       "      <th>Austria</th>\n",
       "      <th>Belarus</th>\n",
       "      <th>Belgium</th>\n",
       "      <th>Brazil</th>\n",
       "      <th>Bulgaria</th>\n",
       "      <th>Canada</th>\n",
       "      <th>Chile</th>\n",
       "      <th>...</th>\n",
       "      <th>South Africa</th>\n",
       "      <th>Spain</th>\n",
       "      <th>Sweden</th>\n",
       "      <th>Switzerland</th>\n",
       "      <th>Thailand</th>\n",
       "      <th>Turkey</th>\n",
       "      <th>Ukraine</th>\n",
       "      <th>United Kingdom</th>\n",
       "      <th>United States</th>\n",
       "      <th>Venezuela</th>\n",
       "    </tr>\n",
       "  </thead>\n",
       "  <tbody>\n",
       "    <tr>\n",
       "      <th>0</th>\n",
       "      <td>0</td>\n",
       "      <td>0</td>\n",
       "      <td>0</td>\n",
       "      <td>0</td>\n",
       "      <td>0</td>\n",
       "      <td>0</td>\n",
       "      <td>0</td>\n",
       "      <td>0</td>\n",
       "      <td>0</td>\n",
       "      <td>0</td>\n",
       "      <td>...</td>\n",
       "      <td>0</td>\n",
       "      <td>0</td>\n",
       "      <td>0</td>\n",
       "      <td>0</td>\n",
       "      <td>0</td>\n",
       "      <td>0</td>\n",
       "      <td>0</td>\n",
       "      <td>1</td>\n",
       "      <td>0</td>\n",
       "      <td>0</td>\n",
       "    </tr>\n",
       "    <tr>\n",
       "      <th>1</th>\n",
       "      <td>0</td>\n",
       "      <td>0</td>\n",
       "      <td>0</td>\n",
       "      <td>0</td>\n",
       "      <td>0</td>\n",
       "      <td>0</td>\n",
       "      <td>0</td>\n",
       "      <td>0</td>\n",
       "      <td>0</td>\n",
       "      <td>0</td>\n",
       "      <td>...</td>\n",
       "      <td>0</td>\n",
       "      <td>0</td>\n",
       "      <td>1</td>\n",
       "      <td>0</td>\n",
       "      <td>0</td>\n",
       "      <td>0</td>\n",
       "      <td>0</td>\n",
       "      <td>0</td>\n",
       "      <td>0</td>\n",
       "      <td>0</td>\n",
       "    </tr>\n",
       "    <tr>\n",
       "      <th>2</th>\n",
       "      <td>0</td>\n",
       "      <td>0</td>\n",
       "      <td>0</td>\n",
       "      <td>0</td>\n",
       "      <td>0</td>\n",
       "      <td>0</td>\n",
       "      <td>0</td>\n",
       "      <td>0</td>\n",
       "      <td>0</td>\n",
       "      <td>0</td>\n",
       "      <td>...</td>\n",
       "      <td>0</td>\n",
       "      <td>0</td>\n",
       "      <td>0</td>\n",
       "      <td>0</td>\n",
       "      <td>0</td>\n",
       "      <td>0</td>\n",
       "      <td>0</td>\n",
       "      <td>0</td>\n",
       "      <td>0</td>\n",
       "      <td>0</td>\n",
       "    </tr>\n",
       "    <tr>\n",
       "      <th>3</th>\n",
       "      <td>0</td>\n",
       "      <td>0</td>\n",
       "      <td>0</td>\n",
       "      <td>0</td>\n",
       "      <td>0</td>\n",
       "      <td>0</td>\n",
       "      <td>0</td>\n",
       "      <td>0</td>\n",
       "      <td>0</td>\n",
       "      <td>0</td>\n",
       "      <td>...</td>\n",
       "      <td>0</td>\n",
       "      <td>0</td>\n",
       "      <td>0</td>\n",
       "      <td>0</td>\n",
       "      <td>0</td>\n",
       "      <td>0</td>\n",
       "      <td>0</td>\n",
       "      <td>0</td>\n",
       "      <td>1</td>\n",
       "      <td>0</td>\n",
       "    </tr>\n",
       "    <tr>\n",
       "      <th>4</th>\n",
       "      <td>0</td>\n",
       "      <td>0</td>\n",
       "      <td>0</td>\n",
       "      <td>0</td>\n",
       "      <td>0</td>\n",
       "      <td>0</td>\n",
       "      <td>0</td>\n",
       "      <td>0</td>\n",
       "      <td>0</td>\n",
       "      <td>0</td>\n",
       "      <td>...</td>\n",
       "      <td>0</td>\n",
       "      <td>0</td>\n",
       "      <td>1</td>\n",
       "      <td>0</td>\n",
       "      <td>0</td>\n",
       "      <td>0</td>\n",
       "      <td>0</td>\n",
       "      <td>0</td>\n",
       "      <td>0</td>\n",
       "      <td>0</td>\n",
       "    </tr>\n",
       "  </tbody>\n",
       "</table>\n",
       "<p>5 rows × 51 columns</p>\n",
       "</div>"
      ],
      "text/plain": [
       "   Antarctica  Argentina  Australia  Austria  Belarus  Belgium  Brazil  \\\n",
       "0           0          0          0        0        0        0       0   \n",
       "1           0          0          0        0        0        0       0   \n",
       "2           0          0          0        0        0        0       0   \n",
       "3           0          0          0        0        0        0       0   \n",
       "4           0          0          0        0        0        0       0   \n",
       "\n",
       "   Bulgaria  Canada  Chile    ...      South Africa  Spain  Sweden  \\\n",
       "0         0       0      0    ...                 0      0       0   \n",
       "1         0       0      0    ...                 0      0       1   \n",
       "2         0       0      0    ...                 0      0       0   \n",
       "3         0       0      0    ...                 0      0       0   \n",
       "4         0       0      0    ...                 0      0       1   \n",
       "\n",
       "   Switzerland  Thailand  Turkey  Ukraine  United Kingdom  United States  \\\n",
       "0            0         0       0        0               1              0   \n",
       "1            0         0       0        0               0              0   \n",
       "2            0         0       0        0               0              0   \n",
       "3            0         0       0        0               0              1   \n",
       "4            0         0       0        0               0              0   \n",
       "\n",
       "   Venezuela  \n",
       "0          0  \n",
       "1          0  \n",
       "2          0  \n",
       "3          0  \n",
       "4          0  \n",
       "\n",
       "[5 rows x 51 columns]"
      ]
     },
     "execution_count": 32,
     "metadata": {},
     "output_type": "execute_result"
    }
   ],
   "source": [
    "# Finally we do a 1-hot-encoding of the country variable\n",
    "country_dummies = pd.get_dummies(model_df_with_features[\"country\"])\n",
    "country_dummies.head()"
   ]
  },
  {
   "cell_type": "code",
   "execution_count": 33,
   "metadata": {},
   "outputs": [
    {
     "data": {
      "text/plain": [
       "(50000, 57)"
      ]
     },
     "execution_count": 33,
     "metadata": {},
     "output_type": "execute_result"
    }
   ],
   "source": [
    "model_df_with_features = pd.concat([model_df_with_features,country_dummies],axis=1)\n",
    "model_df_with_features.shape"
   ]
  },
  {
   "cell_type": "code",
   "execution_count": 34,
   "metadata": {
    "collapsed": true
   },
   "outputs": [],
   "source": [
    "# We also convert gender to numeric values\n",
    "model_df_with_features[\"gender\"] = [1 if gender == \"m\" else 2 for gender in model_df_with_features[\"gender\"]]"
   ]
  },
  {
   "cell_type": "code",
   "execution_count": 35,
   "metadata": {},
   "outputs": [
    {
     "data": {
      "text/plain": [
       "1    40261\n",
       "2     9739\n",
       "Name: gender, dtype: int64"
      ]
     },
     "execution_count": 35,
     "metadata": {},
     "output_type": "execute_result"
    }
   ],
   "source": [
    "model_df_with_features[\"gender\"].value_counts()"
   ]
  },
  {
   "cell_type": "code",
   "execution_count": 36,
   "metadata": {},
   "outputs": [
    {
     "data": {
      "text/plain": [
       "Index([u'target', u'user_id', u'gender', u'age', u'country', u'duration',\n",
       "       u'Antarctica', u'Argentina', u'Australia', u'Austria', u'Belarus',\n",
       "       u'Belgium', u'Brazil', u'Bulgaria', u'Canada', u'Chile', u'China',\n",
       "       u'Colombia', u'Croatia', u'Czech Republic', u'Denmark', u'Estonia',\n",
       "       u'Finland', u'France', u'Germany', u'Greece', u'Hungary', u'India',\n",
       "       u'Ireland', u'Israel', u'Italy', u'Japan', u'Latvia', u'Lithuania',\n",
       "       u'Mexico', u'Netherlands', u'New Zealand', u'Norway', u'Others',\n",
       "       u'Philippines', u'Poland', u'Portugal', u'Romania',\n",
       "       u'Russian Federation', u'Serbia', u'Slovakia', u'Slovenia',\n",
       "       u'South Africa', u'Spain', u'Sweden', u'Switzerland', u'Thailand',\n",
       "       u'Turkey', u'Ukraine', u'United Kingdom', u'United States',\n",
       "       u'Venezuela'],\n",
       "      dtype='object')"
      ]
     },
     "execution_count": 36,
     "metadata": {},
     "output_type": "execute_result"
    }
   ],
   "source": [
    "model_df_with_features.columns"
   ]
  },
  {
   "cell_type": "markdown",
   "metadata": {},
   "source": [
    "## Training a Binary Classification Model <a name=\"model_train\"></a>"
   ]
  },
  {
   "cell_type": "code",
   "execution_count": 37,
   "metadata": {},
   "outputs": [
    {
     "data": {
      "text/plain": [
       "(35000, 54)"
      ]
     },
     "execution_count": 37,
     "metadata": {},
     "output_type": "execute_result"
    }
   ],
   "source": [
    "from sklearn.model_selection import train_test_split\n",
    "\n",
    "\n",
    "X_train, X_test, y_train, y_test = train_test_split(model_df_with_features.drop(labels=[\"user_id\",\"target\",\"country\"],axis=1),\n",
    "                                                   model_df_with_features[\"target\"],\n",
    "                                                    test_size=0.3, random_state = 123)\n",
    "X_train.shape"
   ]
  },
  {
   "cell_type": "code",
   "execution_count": 38,
   "metadata": {},
   "outputs": [
    {
     "data": {
      "text/plain": [
       "0    26323\n",
       "1     8677\n",
       "Name: target, dtype: int64"
      ]
     },
     "execution_count": 38,
     "metadata": {},
     "output_type": "execute_result"
    }
   ],
   "source": [
    "y_train.value_counts()"
   ]
  },
  {
   "cell_type": "code",
   "execution_count": 39,
   "metadata": {
    "collapsed": true
   },
   "outputs": [],
   "source": [
    "# Next we train a Logistic Regresison model\n",
    "from sklearn.linear_model import LogisticRegression\n",
    "lr_model = LogisticRegression()\n",
    "train_model = lr_model.fit(X_train,y_train)"
   ]
  },
  {
   "cell_type": "markdown",
   "metadata": {},
   "source": [
    "## Model Performance Evaluation <a name=\"model_perf\"></a>"
   ]
  },
  {
   "cell_type": "code",
   "execution_count": 40,
   "metadata": {
    "collapsed": true
   },
   "outputs": [],
   "source": [
    "# We score the model on the test set\n",
    "pred_test_prob = pd.Series(lr_model.predict_proba(X_test)[:,1])"
   ]
  },
  {
   "cell_type": "code",
   "execution_count": 41,
   "metadata": {},
   "outputs": [
    {
     "data": {
      "text/plain": [
       "count    15000.000000\n",
       "mean         0.249910\n",
       "std          0.076672\n",
       "min          0.054701\n",
       "25%          0.202855\n",
       "50%          0.243487\n",
       "75%          0.329724\n",
       "max          0.408924\n",
       "dtype: float64"
      ]
     },
     "execution_count": 41,
     "metadata": {},
     "output_type": "execute_result"
    }
   ],
   "source": [
    "pred_test_prob.describe()"
   ]
  },
  {
   "cell_type": "markdown",
   "metadata": {},
   "source": [
    "The maximum probability is only 0.4. "
   ]
  },
  {
   "cell_type": "code",
   "execution_count": 42,
   "metadata": {
    "collapsed": true
   },
   "outputs": [],
   "source": [
    "from sklearn.metrics import roc_auc_score,confusion_matrix"
   ]
  },
  {
   "cell_type": "code",
   "execution_count": 43,
   "metadata": {},
   "outputs": [
    {
     "data": {
      "text/plain": [
       "0     0.227852\n",
       "1     0.268917\n",
       "2     0.271604\n",
       "3     0.295505\n",
       "4     0.132653\n",
       "5     0.347541\n",
       "6     0.211663\n",
       "7     0.154567\n",
       "8     0.251927\n",
       "9     0.244254\n",
       "10    0.367789\n",
       "11    0.249566\n",
       "dtype: float64"
      ]
     },
     "execution_count": 43,
     "metadata": {},
     "output_type": "execute_result"
    }
   ],
   "source": [
    "pred_test_prob[0:12]"
   ]
  },
  {
   "cell_type": "code",
   "execution_count": 44,
   "metadata": {},
   "outputs": [
    {
     "data": {
      "text/plain": [
       "0.62428558876621343"
      ]
     },
     "execution_count": 44,
     "metadata": {},
     "output_type": "execute_result"
    }
   ],
   "source": [
    "roc_auc_score(y_test,pred_test_prob)"
   ]
  },
  {
   "cell_type": "markdown",
   "metadata": {},
   "source": [
    "### Inference\n",
    "\n",
    "Area under the curve is only 62% indicating that the model performance is not very great. This could be due to the limited number of features that we had at our disposal to create a model.\n"
   ]
  },
  {
   "cell_type": "code",
   "execution_count": 45,
   "metadata": {},
   "outputs": [
    {
     "data": {
      "text/plain": [
       "array([[8939, 2474],\n",
       "       [2311, 1276]])"
      ]
     },
     "execution_count": 45,
     "metadata": {},
     "output_type": "execute_result"
    }
   ],
   "source": [
    "# We next try a confusion matrix\n",
    "# BY default the confusion matrix uses a 0.5 probability cutoff\n",
    "# Given that our max prob is only 0.4 we have to use a ddifferent threshold\n",
    "# If the probability is > 75th percentile we tag the case as 1 else 0\n",
    "pred_test_class = [1 if x > pred_test_prob.quantile(q=0.75) else 0 for x in pred_test_prob]\n",
    "confusion_matrix(y_test, pred_test_class)"
   ]
  },
  {
   "cell_type": "code",
   "execution_count": 46,
   "metadata": {},
   "outputs": [
    {
     "data": {
      "text/plain": [
       "0.68100000000000005"
      ]
     },
     "execution_count": 46,
     "metadata": {},
     "output_type": "execute_result"
    }
   ],
   "source": [
    "# We compute the accuracy from this confusion matrix\n",
    "from sklearn.metrics import accuracy_score\n",
    "accuracy_score(y_test,pred_test_class)"
   ]
  },
  {
   "cell_type": "code",
   "execution_count": 47,
   "metadata": {
    "collapsed": true
   },
   "outputs": [],
   "source": [
    "# We have a 68% accuracy (the accuracy number will change depenidng on the threshold choosen)"
   ]
  },
  {
   "cell_type": "code",
   "execution_count": 48,
   "metadata": {},
   "outputs": [
    {
     "data": {
      "text/plain": [
       "Index([u'target', u'user_id', u'gender', u'age', u'country', u'duration',\n",
       "       u'Antarctica', u'Argentina', u'Australia', u'Austria', u'Belarus',\n",
       "       u'Belgium', u'Brazil', u'Bulgaria', u'Canada', u'Chile', u'China',\n",
       "       u'Colombia', u'Croatia', u'Czech Republic', u'Denmark', u'Estonia',\n",
       "       u'Finland', u'France', u'Germany', u'Greece', u'Hungary', u'India',\n",
       "       u'Ireland', u'Israel', u'Italy', u'Japan', u'Latvia', u'Lithuania',\n",
       "       u'Mexico', u'Netherlands', u'New Zealand', u'Norway', u'Others',\n",
       "       u'Philippines', u'Poland', u'Portugal', u'Romania',\n",
       "       u'Russian Federation', u'Serbia', u'Slovakia', u'Slovenia',\n",
       "       u'South Africa', u'Spain', u'Sweden', u'Switzerland', u'Thailand',\n",
       "       u'Turkey', u'Ukraine', u'United Kingdom', u'United States',\n",
       "       u'Venezuela'],\n",
       "      dtype='object')"
      ]
     },
     "execution_count": 48,
     "metadata": {},
     "output_type": "execute_result"
    }
   ],
   "source": [
    "# Finally we try runing this model on the whole of our training set\n",
    "# to do that we would have to convert the country and gender variables\n",
    "model_df_updated = model_df_with_features.copy()\n",
    "model_df_updated.columns"
   ]
  },
  {
   "cell_type": "markdown",
   "metadata": {},
   "source": [
    "# Generic Function for any artist <a name = \"func\"></a>\n",
    "\n",
    "The model that we currently built is for a particular user id. We would next create a function that would run these steps for any given artist id"
   ]
  },
  {
   "cell_type": "code",
   "execution_count": 49,
   "metadata": {
    "collapsed": true
   },
   "outputs": [],
   "source": [
    "def generate_artist_prediction(artist_id):\n",
    "    # WE next filter our total plays dataset on this artist id as well as the top 50k user ids\n",
    "    artist_play_data = plays_data[(plays_data[\"artist_id\"] == artist_id) & (plays_data[\"user_id\"].isin(top_50k_users))]\n",
    "    \n",
    "    # Create target variable\n",
    "    users_yes = list(artist_play_data[\"user_id\"])\n",
    "    users_no = [x for x in top_50k_users if x not in users_yes]\n",
    "    users_yes_df = pd.DataFrame({\"user_id\": users_yes,\"target\": 1})\n",
    "    users_no_df = pd.DataFrame({\"user_id\": users_no,\"target\": 0})\n",
    "    model_df = pd.concat([users_yes_df,users_no_df])\n",
    "    \n",
    "    # Map features\n",
    "    model_df_with_features = pd.merge(model_df, user_profile, on = \"user_id\",how=\"left\")\n",
    "    \n",
    "    # Missing value imputation\n",
    "    # We do a median imputation for age and mode imputation for gender\n",
    "    age_impute = model_df_with_features[\"age\"].mean()\n",
    "    gender_impute = model_df_with_features[\"gender\"].value_counts().index[0]\n",
    "    model_df_with_features.fillna({\"age\": age_impute, \"gender\": gender_impute}, inplace = True)\n",
    "    \n",
    "    # WE convert the registration date into no.of days since registered\n",
    "    model_df_with_features[\"registered_on\"] = pd.to_datetime(model_df_with_features[\"registered_on\"])\n",
    "    model_df_with_features[\"curr_date\"] = pd.to_datetime(\"2017-12-01\")\n",
    "    duration = model_df_with_features[\"curr_date\"] - model_df_with_features[\"registered_on\"]\n",
    "    import numpy as np\n",
    "    duration=(duration / np.timedelta64(1, 'D')).astype(int)\n",
    "    model_df_with_features[\"duration\"] = duration\n",
    "    # Finally we drop the registred and curr date columns\n",
    "    model_df_with_features.drop(labels = [\"curr_date\",\"registered_on\"],axis=1,inplace=True)\n",
    "    \n",
    "    #1-hot encoding of countries\n",
    "    top_countries = model_df_with_features[\"country\"].value_counts().index[0:50]\n",
    "    model_df_with_features[\"country\"] = np.where(model_df_with_features[\"country\"].isin(top_countries),\n",
    "                                            model_df_with_features[\"country\"],\"Others\")\n",
    "    country_dummies = pd.get_dummies(model_df_with_features[\"country\"])\n",
    "    model_df_with_features = pd.concat([model_df_with_features,country_dummies],axis=1)\n",
    "    # We also convert gender to numeric values\n",
    "    model_df_with_features[\"gender\"] = [1 if gender == \"m\" else 2 for gender in model_df_with_features[\"gender\"]]\n",
    "    \n",
    "    # Train model\n",
    "    from sklearn.model_selection import train_test_split\n",
    "    X_train, X_test, y_train, y_test = train_test_split(model_df_with_features.drop(labels=[\"user_id\",\"target\",\"country\"],axis=1),\n",
    "                                                   model_df_with_features[\"target\"],\n",
    "                                                    test_size=0.3, random_state = 123)\n",
    "    # Next we train a Logistic Regresison model\n",
    "    from sklearn.linear_model import LogisticRegression\n",
    "    lr_model = LogisticRegression()\n",
    "    train_model = lr_model.fit(X_train,y_train)\n",
    "\n",
    "    # model performance\n",
    "    # We score the model on the test set\n",
    "    pred_test_prob = pd.Series(lr_model.predict_proba(X_test)[:,1])\n",
    "    \n",
    "    from sklearn.metrics import roc_auc_score,confusion_matrix\n",
    "    auc = roc_auc_score(y_test,pred_test_prob)\n",
    "    pred_test_class = [1 if x > pred_test_prob.quantile(q=0.75) else 0 for x in pred_test_prob]\n",
    "    conf_matrix = confusion_matrix(y_test, pred_test_class)\n",
    "    \n",
    "    res = {\"auc\":auc, \"confusion_matrix\": conf_matrix}\n",
    "    return res"
   ]
  },
  {
   "cell_type": "code",
   "execution_count": 50,
   "metadata": {
    "collapsed": true
   },
   "outputs": [],
   "source": [
    "# WE can now use this function to run a prediction model for any given artist\n",
    "# for eg...\n",
    "selected_artist = tot_plays_artist.index[10]"
   ]
  },
  {
   "cell_type": "code",
   "execution_count": 51,
   "metadata": {},
   "outputs": [
    {
     "data": {
      "text/plain": [
       "{'auc': 0.6776041410603082, 'confusion_matrix': array([[10456,  3104],\n",
       "        [  794,   646]])}"
      ]
     },
     "execution_count": 51,
     "metadata": {},
     "output_type": "execute_result"
    }
   ],
   "source": [
    "generate_artist_prediction(selected_artist)"
   ]
  },
  {
   "cell_type": "code",
   "execution_count": null,
   "metadata": {
    "collapsed": true
   },
   "outputs": [],
   "source": []
  }
 ],
 "metadata": {
  "anaconda-cloud": {},
  "kernelspec": {
   "display_name": "Python 3",
   "language": "python",
   "name": "python3"
  },
  "language_info": {
   "codemirror_mode": {
    "name": "ipython",
    "version": 3
   },
   "file_extension": ".py",
   "mimetype": "text/x-python",
   "name": "python",
   "nbconvert_exporter": "python",
   "pygments_lexer": "ipython3",
   "version": "3.6.1"
  }
 },
 "nbformat": 4,
 "nbformat_minor": 2
}
